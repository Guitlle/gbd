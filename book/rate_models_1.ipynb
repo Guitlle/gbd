{
 "metadata": {
  "name": "rate_models_1"
 }, 
 "nbformat": 2, 
 "worksheets": [
  {
   "cells": [
    {
     "cell_type": "code", 
     "collapsed": false, 
     "input": [
      "\"\"\" Fit data with several rate models and generate forest plot\"\"\"", 
      "", 
      "", 
      "import sys", 
      "sys.path += ['..']", 
      "", 
      "", 
      "import pylab as pl", 
      "import pymc as mc", 
      "", 
      "import dismod3", 
      "import book_graphics", 
      "reload(book_graphics)", 
      "", 
      "results = {}", 
      "n_pred = 10000", 
      "iter = 20000", 
      "burn = 10000", 
      "thin = 10"
     ], 
     "language": "python", 
     "outputs": [
      {
       "output_type": "stream", 
       "stream": "stderr", 
       "text": [
        "/usr/local/lib/python2.6/dist-packages/twill-0.9-py2.6.egg/twill/other_packages/_mechanize_dist/_auth.py:14: DeprecationWarning: the md5 module is deprecated; use hashlib instead", 
        "  import re, base64, urlparse, posixpath, md5, sha, sys, copy", 
        "/usr/local/lib/python2.6/dist-packages/twill-0.9-py2.6.egg/twill/other_packages/_mechanize_dist/_auth.py:14: DeprecationWarning: the sha module is deprecated; use the hashlib module instead", 
        "  import re, base64, urlparse, posixpath, md5, sha, sys, copy"
       ]
      }
     ], 
     "prompt_number": 1
    }, 
    {
     "cell_type": "code", 
     "collapsed": false, 
     "input": [
      "### @export 'data'", 
      "# TODO: migrate data into a csv, load with pandas", 
      "dm = dismod3.load_disease_model(15630)", 
      "dm.calc_effective_sample_size(dm.data)", 
      "some_data = ([d for d in dm.data", 
      "              if d['data_type'] == 'prevalence data'", 
      "              and d['sex'] == 'male'", 
      "              and 15 <= d['age_start'] < 20", 
      "              and d['age_end'] == 99", 
      "              and d['effective_sample_size'] > 1])", 
      "countries = pl.unique([s['region'] for s in some_data])", 
      "min_year = min([s['year_start'] for s in some_data])", 
      "max_year = max([s['year_end'] for s in some_data])", 
      "cy = ['%s-%d'%(s['region'], s['year_start']) for s in some_data]", 
      "", 
      "n = pl.array([s['effective_sample_size'] for s in some_data])", 
      "r = pl.array([dm.value_per_1(s) for s in some_data])", 
      "", 
      "s = pl.sqrt(r * (1-r) / n)"
     ], 
     "language": "python", 
     "outputs": [
      {
       "output_type": "stream", 
       "stream": "stdout", 
       "text": [
        "WARNING: row 24 &lt;= 0"
       ]
      }, 
      {
       "output_type": "stream", 
       "stream": "stdout", 
       "text": [
        "WARNING: row 42 &lt;= 0"
       ]
      }, 
      {
       "output_type": "stream", 
       "stream": "stdout", 
       "text": [
        "WARNING: row 60 &lt;= 0"
       ]
      }, 
      {
       "output_type": "stream", 
       "stream": "stdout", 
       "text": [
        "WARNING: row 61 &lt;= 0"
       ]
      }, 
      {
       "output_type": "stream", 
       "stream": "stdout", 
       "text": [
        "WARNING: row 76 &lt;= 0"
       ]
      }, 
      {
       "output_type": "stream", 
       "stream": "stdout", 
       "text": [
        "WARNING: row 78 &lt;= 0"
       ]
      }, 
      {
       "output_type": "stream", 
       "stream": "stdout", 
       "text": [
        "WARNING: row 99 &lt;= 0"
       ]
      }, 
      {
       "output_type": "stream", 
       "stream": "stdout", 
       "text": [
        "WARNING: row 114 &lt;= 0"
       ]
      }, 
      {
       "output_type": "stream", 
       "stream": "stdout", 
       "text": [
        "WARNING: row 115 &lt;= 0"
       ]
      }, 
      {
       "output_type": "stream", 
       "stream": "stdout", 
       "text": [
        "WARNING: row 117 &lt;= 0"
       ]
      }, 
      {
       "output_type": "stream", 
       "stream": "stdout", 
       "text": [
        "WARNING: row 152 &lt;= 0"
       ]
      }, 
      {
       "output_type": "stream", 
       "stream": "stdout", 
       "text": [
        "WARNING: row 153 &lt;= 0"
       ]
      }, 
      {
       "output_type": "stream", 
       "stream": "stdout", 
       "text": [
        "WARNING: row 264 &lt;= 0"
       ]
      }, 
      {
       "output_type": "stream", 
       "stream": "stdout", 
       "text": [
        "WARNING: row 265 &lt;= 0"
       ]
      }
     ], 
     "prompt_number": 2
    }, 
    {
     "cell_type": "code", 
     "collapsed": false, 
     "input": [
      "### @export 'binomial-model'", 
      "pi = mc.Uniform('pi', lower=0, upper=1, value=.5)", 
      "", 
      "@mc.potential", 
      "def obs(pi=pi):", 
      "    return mc.binomial_like(r*n, n, pi)", 
      "", 
      "@mc.deterministic", 
      "def pred(pi=pi):", 
      "    return mc.rbinomial(n_pred, pi) / float(n_pred)", 
      "", 
      "### @export 'binomial-fit'", 
      "mc.MCMC([pi, obs, pred]).sample(iter, burn, thin)", 
      "", 
      "### @export 'binomial-store'", 
      "mc.Matplot.plot(pi)", 
      "pl.savefig('ci-prev_meta_analysis-binomial_diagnostic.png')", 
      "results['Binomial'] = dict(pi=pi.stats(), pred=pred.stats())"
     ], 
     "language": "python", 
     "outputs": [
      {
       "output_type": "stream", 
       "stream": "stderr", 
       "text": [
        "Sampling:   0% [                                                ] Iterations: 0", 
        "Sampling:   1% [                                              ] Iterations: 200", 
        "Sampling:   2% [                                              ] Iterations: 400", 
        "Sampling:   3% [0                                             ] Iterations: 600", 
        "Sampling:   4% [0                                             ] Iterations: 800"
       ]
      }, 
      {
       "output_type": "stream", 
       "stream": "stderr", 
       "text": [
        "Sampling:   5% [00                                           ] Iterations: 1000", 
        "Sampling:   6% [00                                           ] Iterations: 1200", 
        "Sampling:   7% [000                                          ] Iterations: 1400", 
        "Sampling:   8% [000                                          ] Iterations: 1600"
       ]
      }, 
      {
       "output_type": "stream", 
       "stream": "stderr", 
       "text": [
        "Sampling:   9% [0000                                         ] Iterations: 1800", 
        "Sampling:  10% [0000                                         ] Iterations: 2000", 
        "Sampling:  11% [0000                                         ] Iterations: 2200", 
        "Sampling:  12% [00000                                        ] Iterations: 2400"
       ]
      }, 
      {
       "output_type": "stream", 
       "stream": "stderr", 
       "text": [
        "Sampling:  13% [00000                                        ] Iterations: 2600", 
        "Sampling:  14% [000000                                       ] Iterations: 2800", 
        "Sampling:  15% [000000                                       ] Iterations: 3000", 
        "Sampling:  16% [0000000                                      ] Iterations: 3200", 
        "Sampling:  17% [0000000                                      ] Iterations: 3400"
       ]
      }, 
      {
       "output_type": "stream", 
       "stream": "stderr", 
       "text": [
        "Sampling:  18% [00000000                                     ] Iterations: 3600", 
        "Sampling:  19% [00000000                                     ] Iterations: 3800", 
        "Sampling:  20% [000000000                                    ] Iterations: 4000", 
        "Sampling:  21% [000000000                                    ] Iterations: 4200"
       ]
      }, 
      {
       "output_type": "stream", 
       "stream": "stderr", 
       "text": [
        "Sampling:  22% [000000000                                    ] Iterations: 4400", 
        "Sampling:  23% [0000000000                                   ] Iterations: 4600", 
        "Sampling:  24% [0000000000                                   ] Iterations: 4800", 
        "Sampling:  25% [00000000000                                  ] Iterations: 5000", 
        "Sampling:  26% [00000000000                                  ] Iterations: 5200"
       ]
      }, 
      {
       "output_type": "stream", 
       "stream": "stderr", 
       "text": [
        "Sampling:  27% [000000000000                                 ] Iterations: 5400", 
        "Sampling:  28% [000000000000                                 ] Iterations: 5600", 
        "Sampling:  29% [0000000000000                                ] Iterations: 5800", 
        "Sampling:  29% [0000000000000                                ] Iterations: 5801", 
        "Sampling:  30% [0000000000000                                ] Iterations: 6000", 
        "Sampling:  31% [0000000000000                                ] Iterations: 6200"
       ]
      }, 
      {
       "output_type": "stream", 
       "stream": "stderr", 
       "text": [
        "Sampling:  32% [00000000000000                               ] Iterations: 6400", 
        "Sampling:  33% [00000000000000                               ] Iterations: 6600", 
        "Sampling:  34% [000000000000000                              ] Iterations: 6800", 
        "Sampling:  35% [000000000000000                              ] Iterations: 7000", 
        "Sampling:  36% [0000000000000000                             ] Iterations: 7200"
       ]
      }, 
      {
       "output_type": "stream", 
       "stream": "stderr", 
       "text": [
        "Sampling:  37% [0000000000000000                             ] Iterations: 7400", 
        "Sampling:  38% [00000000000000000                            ] Iterations: 7600", 
        "Sampling:  39% [00000000000000000                            ] Iterations: 7800", 
        "Sampling:  40% [000000000000000000                           ] Iterations: 8000"
       ]
      }, 
      {
       "output_type": "stream", 
       "stream": "stderr", 
       "text": [
        "Sampling:  41% [000000000000000000                           ] Iterations: 8200", 
        "Sampling:  42% [000000000000000000                           ] Iterations: 8400", 
        "Sampling:  43% [0000000000000000000                          ] Iterations: 8600", 
        "Sampling:  44% [0000000000000000000                          ] Iterations: 8800"
       ]
      }, 
      {
       "output_type": "stream", 
       "stream": "stderr", 
       "text": [
        "Sampling:  45% [00000000000000000000                         ] Iterations: 9000", 
        "Sampling:  46% [00000000000000000000                         ] Iterations: 9200", 
        "Sampling:  47% [000000000000000000000                        ] Iterations: 9400", 
        "Sampling:  48% [000000000000000000000                        ] Iterations: 9600", 
        "Sampling:  49% [0000000000000000000000                       ] Iterations: 9800"
       ]
      }, 
      {
       "output_type": "stream", 
       "stream": "stderr", 
       "text": [
        "Sampling:  50% [0000000000000000000000                      ] Iterations: 10000", 
        "Sampling:  51% [0000000000000000000000                      ] Iterations: 10200", 
        "Sampling:  52% [0000000000000000000000                      ] Iterations: 10400", 
        "Sampling:  53% [00000000000000000000000                     ] Iterations: 10600", 
        "Sampling:  54% [00000000000000000000000                     ] Iterations: 10800"
       ]
      }, 
      {
       "output_type": "stream", 
       "stream": "stderr", 
       "text": [
        "Sampling:  55% [000000000000000000000000                    ] Iterations: 11000", 
        "Sampling:  56% [000000000000000000000000                    ] Iterations: 11200", 
        "Sampling:  57% [0000000000000000000000000                   ] Iterations: 11400", 
        "Sampling:  57% [0000000000000000000000000                   ] Iterations: 11401", 
        "Sampling:  58% [0000000000000000000000000                   ] Iterations: 11600", 
        "Sampling:  58% [0000000000000000000000000                   ] Iterations: 11601", 
        "Sampling:  59% [0000000000000000000000000                   ] Iterations: 11800"
       ]
      }, 
      {
       "output_type": "stream", 
       "stream": "stderr", 
       "text": [
        "Sampling:  60% [00000000000000000000000000                  ] Iterations: 12000", 
        "Sampling:  61% [00000000000000000000000000                  ] Iterations: 12200", 
        "Sampling:  62% [000000000000000000000000000                 ] Iterations: 12400"
       ]
      }, 
      {
       "output_type": "stream", 
       "stream": "stderr", 
       "text": [
        "Sampling:  63% [000000000000000000000000000                 ] Iterations: 12600", 
        "Sampling:  64% [0000000000000000000000000000                ] Iterations: 12800", 
        "Sampling:  65% [0000000000000000000000000000                ] Iterations: 13000"
       ]
      }, 
      {
       "output_type": "stream", 
       "stream": "stderr", 
       "text": [
        "Sampling:  66% [00000000000000000000000000000               ] Iterations: 13200", 
        "Sampling:  67% [00000000000000000000000000000               ] Iterations: 13400", 
        "Sampling:  68% [00000000000000000000000000000               ] Iterations: 13600"
       ]
      }, 
      {
       "output_type": "stream", 
       "stream": "stderr", 
       "text": [
        "Sampling:  69% [000000000000000000000000000000              ] Iterations: 13800", 
        "Sampling:  70% [000000000000000000000000000000              ] Iterations: 14000", 
        "Sampling:  71% [0000000000000000000000000000000             ] Iterations: 14200", 
        "Sampling:  72% [0000000000000000000000000000000             ] Iterations: 14400"
       ]
      }, 
      {
       "output_type": "stream", 
       "stream": "stderr", 
       "text": [
        "Sampling:  73% [00000000000000000000000000000000            ] Iterations: 14600", 
        "Sampling:  74% [00000000000000000000000000000000            ] Iterations: 14800", 
        "Sampling:  75% [000000000000000000000000000000000           ] Iterations: 15000", 
        "Sampling:  76% [000000000000000000000000000000000           ] Iterations: 15200", 
        "Sampling:  77% [000000000000000000000000000000000           ] Iterations: 15400"
       ]
      }, 
      {
       "output_type": "stream", 
       "stream": "stderr", 
       "text": [
        "Sampling:  78% [0000000000000000000000000000000000          ] Iterations: 15600", 
        "Sampling:  79% [0000000000000000000000000000000000          ] Iterations: 15800", 
        "Sampling:  80% [00000000000000000000000000000000000         ] Iterations: 16000", 
        "Sampling:  81% [00000000000000000000000000000000000         ] Iterations: 16200"
       ]
      }, 
      {
       "output_type": "stream", 
       "stream": "stderr", 
       "text": [
        "Sampling:  82% [000000000000000000000000000000000000        ] Iterations: 16400", 
        "Sampling:  83% [000000000000000000000000000000000000        ] Iterations: 16600", 
        "Sampling:  84% [000000000000000000000000000000000000        ] Iterations: 16800", 
        "Sampling:  85% [0000000000000000000000000000000000000       ] Iterations: 17000", 
        "Sampling:  86% [0000000000000000000000000000000000000       ] Iterations: 17200"
       ]
      }, 
      {
       "output_type": "stream", 
       "stream": "stderr", 
       "text": [
        "Sampling:  87% [00000000000000000000000000000000000000      ] Iterations: 17400", 
        "Sampling:  88% [00000000000000000000000000000000000000      ] Iterations: 17600", 
        "Sampling:  89% [000000000000000000000000000000000000000     ] Iterations: 17800", 
        "Sampling:  90% [000000000000000000000000000000000000000     ] Iterations: 18000", 
        "Sampling:  91% [0000000000000000000000000000000000000000    ] Iterations: 18200"
       ]
      }, 
      {
       "output_type": "stream", 
       "stream": "stderr", 
       "text": [
        "Sampling:  92% [0000000000000000000000000000000000000000    ] Iterations: 18400", 
        "Sampling:  93% [0000000000000000000000000000000000000000    ] Iterations: 18600", 
        "Sampling:  94% [00000000000000000000000000000000000000000   ] Iterations: 18800", 
        "Sampling:  95% [00000000000000000000000000000000000000000   ] Iterations: 19000", 
        "Sampling:  96% [000000000000000000000000000000000000000000  ] Iterations: 19200"
       ]
      }, 
      {
       "output_type": "stream", 
       "stream": "stdout", 
       "text": [
        "Plotting pi"
       ]
      }, 
      {
       "output_type": "stream", 
       "stream": "stderr", 
       "text": [
        "Sampling:  97% [000000000000000000000000000000000000000000  ] Iterations: 19400", 
        "Sampling:  98% [0000000000000000000000000000000000000000000 ] Iterations: 19600", 
        "Sampling:  99% [0000000000000000000000000000000000000000000 ] Iterations: 19800", 
        "Sampling: 100% [00000000000000000000000000000000000000000000] Iterations: 20000"
       ]
      }, 
      {
       "output_type": "display_data", 
       "png": "[encoded data removed]"
      }
     ], 
     "prompt_number": 3
    }, 
    {
     "cell_type": "code", 
     "collapsed": false, 
     "input": [
      "", 
      "### @export 'beta-binomial-model'", 
      "alpha = mc.Uninformative('alpha', value=4.)", 
      "beta = mc.Uninformative('beta', value=1000.)", 
      "pi_mean = mc.Lambda('pi_mean', lambda alpha=alpha, beta=beta: alpha/(alpha+beta))", 
      "pi = mc.Beta('pi', alpha, beta, value=r)", 
      "", 
      "@mc.potential", 
      "def obs(pi=pi):", 
      "    return mc.binomial_like(r*n, n, pi)", 
      "", 
      "@mc.deterministic", 
      "def pred(alpha=alpha, beta=beta):", 
      "    return mc.rbinomial(n_pred, mc.rbeta(alpha, beta)) / float(n_pred)", 
      "", 
      "### @export 'beta-binomial-fit'", 
      "mcmc = mc.MCMC([alpha, beta, pi_mean, pi, obs, pred])", 
      "mcmc.use_step_method(mc.AdaptiveMetropolis, [alpha, beta])", 
      "mcmc.use_step_method(mc.AdaptiveMetropolis, pi)", 
      "mcmc.sample(iter*10, burn*10, thin*10)", 
      "", 
      "### @export 'beta-binomial-store'", 
      "#mc.Matplot.plot(alpha)", 
      "#mc.Matplot.plot(beta)", 
      "mc.Matplot.plot(pi)", 
      "pl.savefig('ci-prev_meta_analysis-beta_binomial_diagnostic.png')", 
      "results['Beta binomial'] = dict(pi=pi_mean.stats(), pred=pred.stats())", 
      ""
     ], 
     "language": "python", 
     "outputs": [
      {
       "output_type": "stream", 
       "stream": "stderr", 
       "text": [
        "Sampling:   0% [                                                ] Iterations: 0", 
        "/home/abie/projects/env_pymc_dev/lib/python2.6/site-packages/pymc/StepMethods.py:1171: UserWarning: ", 
        "Covariance was not positive definite and proposal_sd cannot be computed by ", 
        "Cholesky decomposition. The next jumps will be based on the last ", 
        "valid covariance matrix. This situation may have arisen because no ", 
        "jumps were accepted during the last &#96;interval&#96;. One solution is to ", 
        "increase the interval, or specify an initial covariance matrix with ", 
        "a smaller variance. For this simulation, each time a similar error ", 
        "occurs, proposal_sd will be reduced by a factor .9 to reduce the ", 
        "jumps and increase the likelihood of accepted jumps.", 
        "  warnings.warn(adjustmentwarning)"
       ]
      }, 
      {
       "output_type": "stream", 
       "stream": "stderr", 
       "text": [
        "Sampling:   1% [                                             ] Iterations: 2000", 
        "Sampling:   2% [                                             ] Iterations: 4000"
       ]
      }, 
      {
       "output_type": "stream", 
       "stream": "stderr", 
       "text": [
        "Sampling:   3% [0                                            ] Iterations: 6000", 
        "Sampling:   4% [0                                            ] Iterations: 8000"
       ]
      }, 
      {
       "output_type": "stream", 
       "stream": "stderr", 
       "text": [
        "Sampling:   5% [00                                          ] Iterations: 10000", 
        "Sampling:   6% [00                                          ] Iterations: 12000"
       ]
      }, 
      {
       "output_type": "stream", 
       "stream": "stderr", 
       "text": [
        "Sampling:   7% [000                                         ] Iterations: 14000", 
        "Sampling:   8% [000                                         ] Iterations: 16000"
       ]
      }, 
      {
       "output_type": "stream", 
       "stream": "stderr", 
       "text": [
        "Sampling:   9% [000                                         ] Iterations: 18000", 
        "Sampling:  10% [0000                                        ] Iterations: 20000"
       ]
      }, 
      {
       "output_type": "stream", 
       "stream": "stderr", 
       "text": [
        "Sampling:  11% [0000                                        ] Iterations: 22000", 
        "Sampling:  12% [00000                                       ] Iterations: 24000"
       ]
      }, 
      {
       "output_type": "stream", 
       "stream": "stderr", 
       "text": [
        "Sampling:  13% [00000                                       ] Iterations: 26000", 
        "Sampling:  14% [000000                                      ] Iterations: 28000"
       ]
      }, 
      {
       "output_type": "stream", 
       "stream": "stderr", 
       "text": [
        "Sampling:  15% [000000                                      ] Iterations: 30000", 
        "Sampling:  16% [0000000                                     ] Iterations: 32000"
       ]
      }, 
      {
       "output_type": "stream", 
       "stream": "stderr", 
       "text": [
        "Sampling:  17% [0000000                                     ] Iterations: 34000", 
        "Sampling:  18% [0000000                                     ] Iterations: 36000"
       ]
      }, 
      {
       "output_type": "stream", 
       "stream": "stderr", 
       "text": [
        "Sampling:  19% [00000000                                    ] Iterations: 38000", 
        "Sampling:  20% [00000000                                    ] Iterations: 40000"
       ]
      }, 
      {
       "output_type": "stream", 
       "stream": "stderr", 
       "text": [
        "Sampling:  21% [000000000                                   ] Iterations: 42000", 
        "Sampling:  22% [000000000                                   ] Iterations: 44000"
       ]
      }, 
      {
       "output_type": "stream", 
       "stream": "stderr", 
       "text": [
        "Sampling:  23% [0000000000                                  ] Iterations: 46000", 
        "Sampling:  24% [0000000000                                  ] Iterations: 48000"
       ]
      }, 
      {
       "output_type": "stream", 
       "stream": "stderr", 
       "text": [
        "Sampling:  25% [00000000000                                 ] Iterations: 50000", 
        "Sampling:  26% [00000000000                                 ] Iterations: 52000"
       ]
      }, 
      {
       "output_type": "stream", 
       "stream": "stderr", 
       "text": [
        "Sampling:  27% [00000000000                                 ] Iterations: 54000", 
        "Sampling:  28% [000000000000                                ] Iterations: 56000"
       ]
      }, 
      {
       "output_type": "stream", 
       "stream": "stderr", 
       "text": [
        "Sampling:  29% [000000000000                                ] Iterations: 58000", 
        "Sampling:  29% [000000000000                                ] Iterations: 58001", 
        "Sampling:  30% [0000000000000                               ] Iterations: 60000"
       ]
      }, 
      {
       "output_type": "stream", 
       "stream": "stderr", 
       "text": [
        "Sampling:  31% [0000000000000                               ] Iterations: 62000", 
        "Sampling:  32% [00000000000000                              ] Iterations: 64000"
       ]
      }, 
      {
       "output_type": "stream", 
       "stream": "stderr", 
       "text": [
        "Sampling:  33% [00000000000000                              ] Iterations: 66000", 
        "Sampling:  34% [00000000000000                              ] Iterations: 68000"
       ]
      }, 
      {
       "output_type": "stream", 
       "stream": "stderr", 
       "text": [
        "Sampling:  35% [000000000000000                             ] Iterations: 70000", 
        "Sampling:  36% [000000000000000                             ] Iterations: 72000"
       ]
      }, 
      {
       "output_type": "stream", 
       "stream": "stderr", 
       "text": [
        "Sampling:  37% [0000000000000000                            ] Iterations: 74000", 
        "Sampling:  38% [0000000000000000                            ] Iterations: 76000"
       ]
      }, 
      {
       "output_type": "stream", 
       "stream": "stderr", 
       "text": [
        "Sampling:  39% [00000000000000000                           ] Iterations: 78000", 
        "Sampling:  40% [00000000000000000                           ] Iterations: 80000"
       ]
      }, 
      {
       "output_type": "stream", 
       "stream": "stderr", 
       "text": [
        "Sampling:  41% [000000000000000000                          ] Iterations: 82000", 
        "Sampling:  42% [000000000000000000                          ] Iterations: 84000"
       ]
      }, 
      {
       "output_type": "stream", 
       "stream": "stderr", 
       "text": [
        "Sampling:  43% [000000000000000000                          ] Iterations: 86000", 
        "Sampling:  44% [0000000000000000000                         ] Iterations: 88000"
       ]
      }, 
      {
       "output_type": "stream", 
       "stream": "stderr", 
       "text": [
        "Sampling:  45% [0000000000000000000                         ] Iterations: 90000", 
        "Sampling:  46% [00000000000000000000                        ] Iterations: 92000"
       ]
      }, 
      {
       "output_type": "stream", 
       "stream": "stderr", 
       "text": [
        "Sampling:  47% [00000000000000000000                        ] Iterations: 94000", 
        "Sampling:  48% [000000000000000000000                       ] Iterations: 96000"
       ]
      }, 
      {
       "output_type": "stream", 
       "stream": "stderr", 
       "text": [
        "Sampling:  49% [000000000000000000000                       ] Iterations: 98000", 
        "Sampling:  50% [000000000000000000000                      ] Iterations: 100000"
       ]
      }, 
      {
       "output_type": "stream", 
       "stream": "stderr", 
       "text": [
        "Sampling:  51% [000000000000000000000                      ] Iterations: 102000", 
        "Sampling:  52% [0000000000000000000000                     ] Iterations: 104000"
       ]
      }, 
      {
       "output_type": "stream", 
       "stream": "stderr", 
       "text": [
        "Sampling:  53% [0000000000000000000000                     ] Iterations: 106000", 
        "Sampling:  54% [00000000000000000000000                    ] Iterations: 108000"
       ]
      }, 
      {
       "output_type": "stream", 
       "stream": "stderr", 
       "text": [
        "Sampling:  55% [00000000000000000000000                    ] Iterations: 110000", 
        "Sampling:  56% [000000000000000000000000                   ] Iterations: 112000"
       ]
      }, 
      {
       "output_type": "stream", 
       "stream": "stderr", 
       "text": [
        "Sampling:  57% [000000000000000000000000                   ] Iterations: 114000", 
        "Sampling:  57% [000000000000000000000000                   ] Iterations: 114001", 
        "Sampling:  58% [000000000000000000000000                   ] Iterations: 116000"
       ]
      }, 
      {
       "output_type": "stream", 
       "stream": "stderr", 
       "text": [
        "Sampling:  58% [000000000000000000000000                   ] Iterations: 116001", 
        "Sampling:  59% [0000000000000000000000000                  ] Iterations: 118000"
       ]
      }, 
      {
       "output_type": "stream", 
       "stream": "stderr", 
       "text": [
        "Sampling:  60% [0000000000000000000000000                  ] Iterations: 120000", 
        "Sampling:  61% [00000000000000000000000000                 ] Iterations: 122000"
       ]
      }, 
      {
       "output_type": "stream", 
       "stream": "stderr", 
       "text": [
        "Sampling:  62% [00000000000000000000000000                 ] Iterations: 124000", 
        "Sampling:  63% [000000000000000000000000000                ] Iterations: 126000"
       ]
      }, 
      {
       "output_type": "stream", 
       "stream": "stderr", 
       "text": [
        "Sampling:  64% [000000000000000000000000000                ] Iterations: 128000", 
        "Sampling:  65% [000000000000000000000000000                ] Iterations: 130000"
       ]
      }, 
      {
       "output_type": "stream", 
       "stream": "stderr", 
       "text": [
        "Sampling:  66% [0000000000000000000000000000               ] Iterations: 132000", 
        "Sampling:  67% [0000000000000000000000000000               ] Iterations: 134000"
       ]
      }, 
      {
       "output_type": "stream", 
       "stream": "stderr", 
       "text": [
        "Sampling:  68% [00000000000000000000000000000              ] Iterations: 136000", 
        "Sampling:  69% [00000000000000000000000000000              ] Iterations: 138000"
       ]
      }, 
      {
       "output_type": "stream", 
       "stream": "stderr", 
       "text": [
        "Sampling:  70% [000000000000000000000000000000             ] Iterations: 140000", 
        "Sampling:  71% [000000000000000000000000000000             ] Iterations: 142000"
       ]
      }, 
      {
       "output_type": "stream", 
       "stream": "stderr", 
       "text": [
        "Sampling:  72% [000000000000000000000000000000             ] Iterations: 144000", 
        "Sampling:  73% [0000000000000000000000000000000            ] Iterations: 146000"
       ]
      }, 
      {
       "output_type": "stream", 
       "stream": "stderr", 
       "text": [
        "Sampling:  74% [0000000000000000000000000000000            ] Iterations: 148000", 
        "Sampling:  75% [00000000000000000000000000000000           ] Iterations: 150000"
       ]
      }, 
      {
       "output_type": "stream", 
       "stream": "stderr", 
       "text": [
        "Sampling:  76% [00000000000000000000000000000000           ] Iterations: 152000", 
        "Sampling:  77% [000000000000000000000000000000000          ] Iterations: 154000"
       ]
      }, 
      {
       "output_type": "stream", 
       "stream": "stderr", 
       "text": [
        "Sampling:  78% [000000000000000000000000000000000          ] Iterations: 156000", 
        "Sampling:  79% [000000000000000000000000000000000          ] Iterations: 158000"
       ]
      }, 
      {
       "output_type": "stream", 
       "stream": "stderr", 
       "text": [
        "Sampling:  80% [0000000000000000000000000000000000         ] Iterations: 160000", 
        "Sampling:  81% [0000000000000000000000000000000000         ] Iterations: 162000"
       ]
      }, 
      {
       "output_type": "stream", 
       "stream": "stderr", 
       "text": [
        "Sampling:  82% [00000000000000000000000000000000000        ] Iterations: 164000", 
        "Sampling:  83% [00000000000000000000000000000000000        ] Iterations: 166000"
       ]
      }, 
      {
       "output_type": "stream", 
       "stream": "stderr", 
       "text": [
        "Sampling:  84% [000000000000000000000000000000000000       ] Iterations: 168000", 
        "Sampling:  85% [000000000000000000000000000000000000       ] Iterations: 170000"
       ]
      }, 
      {
       "output_type": "stream", 
       "stream": "stderr", 
       "text": [
        "Sampling:  86% [000000000000000000000000000000000000       ] Iterations: 172000", 
        "Sampling:  87% [0000000000000000000000000000000000000      ] Iterations: 174000"
       ]
      }, 
      {
       "output_type": "stream", 
       "stream": "stderr", 
       "text": [
        "Sampling:  88% [0000000000000000000000000000000000000      ] Iterations: 176000", 
        "Sampling:  89% [00000000000000000000000000000000000000     ] Iterations: 178000"
       ]
      }, 
      {
       "output_type": "stream", 
       "stream": "stderr", 
       "text": [
        "Sampling:  90% [00000000000000000000000000000000000000     ] Iterations: 180000", 
        "Sampling:  91% [000000000000000000000000000000000000000    ] Iterations: 182000"
       ]
      }, 
      {
       "output_type": "stream", 
       "stream": "stderr", 
       "text": [
        "Sampling:  92% [000000000000000000000000000000000000000    ] Iterations: 184000", 
        "Sampling:  93% [000000000000000000000000000000000000000    ] Iterations: 186000"
       ]
      }, 
      {
       "output_type": "stream", 
       "stream": "stderr", 
       "text": [
        "Sampling:  94% [0000000000000000000000000000000000000000   ] Iterations: 188000", 
        "Sampling:  95% [0000000000000000000000000000000000000000   ] Iterations: 190000"
       ]
      }, 
      {
       "output_type": "stream", 
       "stream": "stderr", 
       "text": [
        "Sampling:  96% [00000000000000000000000000000000000000000  ] Iterations: 192000", 
        "Sampling:  97% [00000000000000000000000000000000000000000  ] Iterations: 194000"
       ]
      }, 
      {
       "output_type": "stream", 
       "stream": "stderr", 
       "text": [
        "Sampling:  98% [000000000000000000000000000000000000000000 ] Iterations: 196000", 
        "Sampling:  99% [000000000000000000000000000000000000000000 ] Iterations: 198000"
       ]
      }, 
      {
       "output_type": "stream", 
       "stream": "stdout", 
       "text": [
        "Plotting pi_0", 
        "Plotting"
       ]
      }, 
      {
       "output_type": "stream", 
       "stream": "stdout", 
       "text": [
        " pi_1", 
        "Plotting"
       ]
      }, 
      {
       "output_type": "stream", 
       "stream": "stdout", 
       "text": [
        " pi_2", 
        "Plotting"
       ]
      }, 
      {
       "output_type": "stream", 
       "stream": "stdout", 
       "text": [
        " pi_3", 
        "Plotting"
       ]
      }, 
      {
       "output_type": "stream", 
       "stream": "stdout", 
       "text": [
        " pi_4", 
        "Plotting"
       ]
      }, 
      {
       "output_type": "stream", 
       "stream": "stdout", 
       "text": [
        " pi_5", 
        "Plotting"
       ]
      }, 
      {
       "output_type": "stream", 
       "stream": "stdout", 
       "text": [
        " pi_6", 
        "Plotting"
       ]
      }, 
      {
       "output_type": "stream", 
       "stream": "stdout", 
       "text": [
        " pi_7", 
        "Plotting"
       ]
      }, 
      {
       "output_type": "stream", 
       "stream": "stdout", 
       "text": [
        " pi_8", 
        "Plotting"
       ]
      }, 
      {
       "output_type": "stream", 
       "stream": "stdout", 
       "text": [
        " pi_9", 
        "Plotting"
       ]
      }, 
      {
       "output_type": "stream", 
       "stream": "stdout", 
       "text": [
        " pi_10", 
        "Plotting"
       ]
      }, 
      {
       "output_type": "stream", 
       "stream": "stdout", 
       "text": [
        " pi_11", 
        "Plotting"
       ]
      }, 
      {
       "output_type": "stream", 
       "stream": "stdout", 
       "text": [
        " pi_12", 
        "Plotting"
       ]
      }, 
      {
       "output_type": "stream", 
       "stream": "stdout", 
       "text": [
        " pi_13", 
        "Plotting"
       ]
      }, 
      {
       "output_type": "stream", 
       "stream": "stdout", 
       "text": [
        " pi_14", 
        "Plotting"
       ]
      }, 
      {
       "output_type": "stream", 
       "stream": "stdout", 
       "text": [
        " pi_15"
       ]
      }, 
      {
       "output_type": "stream", 
       "stream": "stderr", 
       "text": [
        "Sampling: 100% [0000000000000000000000000000000000000000000] Iterations: 200000"
       ]
      }, 
      {
       "output_type": "display_data", 
       "png": "[encoded data removed]"
      }, 
      {
       "output_type": "display_data", 
       "png": "[encoded data removed]"
      }, 
      {
       "output_type": "display_data", 
       "png": "[encoded data removed]"
      }, 
      {
       "output_type": "display_data", 
       "png": "[encoded data removed]"
      }
     ], 
     "prompt_number": 4
    }, 
    {
     "cell_type": "code", 
     "collapsed": false, 
     "input": [
      "### @export 'poisson-model'", 
      "pi = mc.Uniform('pi', lower=0, upper=1, value=.5)", 
      "", 
      "@mc.potential", 
      "def obs(pi=pi):", 
      "    return mc.poisson_like(r*n, pi*n)", 
      "", 
      "@mc.deterministic", 
      "def pred(pi=pi):", 
      "    return mc.rpoisson(pi*n_pred) / float(n_pred)", 
      "", 
      "### @export 'poisson-fit-and-store'", 
      "mc.MCMC([pi, obs, pred]).sample(iter, burn, thin)", 
      "", 
      "results['Poisson'] = dict(pi=pi.stats(), pred=pred.stats())"
     ], 
     "language": "python", 
     "outputs": [
      {
       "output_type": "stream", 
       "stream": "stderr", 
       "text": [
        "Sampling:   0% [                                                ] Iterations: 0", 
        "Sampling:   1% [                                              ] Iterations: 200", 
        "Sampling:   2% [                                              ] Iterations: 400", 
        "Sampling:   3% [0                                             ] Iterations: 600"
       ]
      }, 
      {
       "output_type": "stream", 
       "stream": "stderr", 
       "text": [
        "Sampling:   4% [0                                             ] Iterations: 800", 
        "Sampling:   5% [00                                           ] Iterations: 1000", 
        "Sampling:   6% [00                                           ] Iterations: 1200", 
        "Sampling:   7% [000                                          ] Iterations: 1400", 
        "Sampling:   8% [000                                          ] Iterations: 1600", 
        "Sampling:   9% [0000                                         ] Iterations: 1800"
       ]
      }, 
      {
       "output_type": "stream", 
       "stream": "stderr", 
       "text": [
        "Sampling:  10% [0000                                         ] Iterations: 2000", 
        "Sampling:  11% [0000                                         ] Iterations: 2200", 
        "Sampling:  12% [00000                                        ] Iterations: 2400", 
        "Sampling:  13% [00000                                        ] Iterations: 2600"
       ]
      }, 
      {
       "output_type": "stream", 
       "stream": "stderr", 
       "text": [
        "Sampling:  14% [000000                                       ] Iterations: 2800", 
        "Sampling:  15% [000000                                       ] Iterations: 3000", 
        "Sampling:  16% [0000000                                      ] Iterations: 3200"
       ]
      }, 
      {
       "output_type": "stream", 
       "stream": "stderr", 
       "text": [
        "Sampling:  17% [0000000                                      ] Iterations: 3400", 
        "Sampling:  18% [00000000                                     ] Iterations: 3600", 
        "Sampling:  19% [00000000                                     ] Iterations: 3800", 
        "Sampling:  20% [000000000                                    ] Iterations: 4000"
       ]
      }, 
      {
       "output_type": "stream", 
       "stream": "stderr", 
       "text": [
        "Sampling:  21% [000000000                                    ] Iterations: 4200", 
        "Sampling:  22% [000000000                                    ] Iterations: 4400", 
        "Sampling:  23% [0000000000                                   ] Iterations: 4600", 
        "Sampling:  24% [0000000000                                   ] Iterations: 4800", 
        "Sampling:  25% [00000000000                                  ] Iterations: 5000"
       ]
      }, 
      {
       "output_type": "stream", 
       "stream": "stderr", 
       "text": [
        "Sampling:  26% [00000000000                                  ] Iterations: 5200", 
        "Sampling:  27% [000000000000                                 ] Iterations: 5400", 
        "Sampling:  28% [000000000000                                 ] Iterations: 5600", 
        "Sampling:  29% [0000000000000                                ] Iterations: 5800"
       ]
      }, 
      {
       "output_type": "stream", 
       "stream": "stderr", 
       "text": [
        "Sampling:  29% [0000000000000                                ] Iterations: 5801", 
        "Sampling:  30% [0000000000000                                ] Iterations: 6000", 
        "Sampling:  31% [0000000000000                                ] Iterations: 6200"
       ]
      }, 
      {
       "output_type": "stream", 
       "stream": "stderr", 
       "text": [
        "Sampling:  32% [00000000000000                               ] Iterations: 6400", 
        "Sampling:  33% [00000000000000                               ] Iterations: 6600", 
        "Sampling:  34% [000000000000000                              ] Iterations: 6800", 
        "Sampling:  35% [000000000000000                              ] Iterations: 7000", 
        "Sampling:  36% [0000000000000000                             ] Iterations: 7200"
       ]
      }, 
      {
       "output_type": "stream", 
       "stream": "stderr", 
       "text": [
        "Sampling:  37% [0000000000000000                             ] Iterations: 7400", 
        "Sampling:  38% [00000000000000000                            ] Iterations: 7600", 
        "Sampling:  39% [00000000000000000                            ] Iterations: 7800", 
        "Sampling:  40% [000000000000000000                           ] Iterations: 8000", 
        "Sampling:  41% [000000000000000000                           ] Iterations: 8200"
       ]
      }, 
      {
       "output_type": "stream", 
       "stream": "stderr", 
       "text": [
        "Sampling:  42% [000000000000000000                           ] Iterations: 8400", 
        "Sampling:  43% [0000000000000000000                          ] Iterations: 8600", 
        "Sampling:  44% [0000000000000000000                          ] Iterations: 8800", 
        "Sampling:  45% [00000000000000000000                         ] Iterations: 9000", 
        "Sampling:  46% [00000000000000000000                         ] Iterations: 9200"
       ]
      }, 
      {
       "output_type": "stream", 
       "stream": "stderr", 
       "text": [
        "Sampling:  47% [000000000000000000000                        ] Iterations: 9400", 
        "Sampling:  48% [000000000000000000000                        ] Iterations: 9600", 
        "Sampling:  49% [0000000000000000000000                       ] Iterations: 9800", 
        "Sampling:  50% [0000000000000000000000                      ] Iterations: 10000", 
        "Sampling:  51% [0000000000000000000000                      ] Iterations: 10200"
       ]
      }, 
      {
       "output_type": "stream", 
       "stream": "stderr", 
       "text": [
        "Sampling:  52% [0000000000000000000000                      ] Iterations: 10400", 
        "Sampling:  53% [00000000000000000000000                     ] Iterations: 10600", 
        "Sampling:  54% [00000000000000000000000                     ] Iterations: 10800", 
        "Sampling:  55% [000000000000000000000000                    ] Iterations: 11000", 
        "Sampling:  56% [000000000000000000000000                    ] Iterations: 11200"
       ]
      }, 
      {
       "output_type": "stream", 
       "stream": "stderr", 
       "text": [
        "Sampling:  57% [0000000000000000000000000                   ] Iterations: 11400", 
        "Sampling:  57% [0000000000000000000000000                   ] Iterations: 11401", 
        "Sampling:  58% [0000000000000000000000000                   ] Iterations: 11600", 
        "Sampling:  58% [0000000000000000000000000                   ] Iterations: 11601", 
        "Sampling:  59% [0000000000000000000000000                   ] Iterations: 11800", 
        "Sampling:  60% [00000000000000000000000000                  ] Iterations: 12000", 
        "Sampling:  61% [00000000000000000000000000                  ] Iterations: 12200"
       ]
      }, 
      {
       "output_type": "stream", 
       "stream": "stderr", 
       "text": [
        "Sampling:  62% [000000000000000000000000000                 ] Iterations: 12400", 
        "Sampling:  63% [000000000000000000000000000                 ] Iterations: 12600", 
        "Sampling:  64% [0000000000000000000000000000                ] Iterations: 12800", 
        "Sampling:  65% [0000000000000000000000000000                ] Iterations: 13000", 
        "Sampling:  66% [00000000000000000000000000000               ] Iterations: 13200"
       ]
      }, 
      {
       "output_type": "stream", 
       "stream": "stderr", 
       "text": [
        "Sampling:  67% [00000000000000000000000000000               ] Iterations: 13400", 
        "Sampling:  68% [00000000000000000000000000000               ] Iterations: 13600", 
        "Sampling:  69% [000000000000000000000000000000              ] Iterations: 13800", 
        "Sampling:  70% [000000000000000000000000000000              ] Iterations: 14000", 
        "Sampling:  71% [0000000000000000000000000000000             ] Iterations: 14200"
       ]
      }, 
      {
       "output_type": "stream", 
       "stream": "stderr", 
       "text": [
        "Sampling:  72% [0000000000000000000000000000000             ] Iterations: 14400", 
        "Sampling:  73% [00000000000000000000000000000000            ] Iterations: 14600", 
        "Sampling:  74% [00000000000000000000000000000000            ] Iterations: 14800", 
        "Sampling:  75% [000000000000000000000000000000000           ] Iterations: 15000", 
        "Sampling:  76% [000000000000000000000000000000000           ] Iterations: 15200"
       ]
      }, 
      {
       "output_type": "stream", 
       "stream": "stderr", 
       "text": [
        "Sampling:  77% [000000000000000000000000000000000           ] Iterations: 15400", 
        "Sampling:  78% [0000000000000000000000000000000000          ] Iterations: 15600", 
        "Sampling:  79% [0000000000000000000000000000000000          ] Iterations: 15800", 
        "Sampling:  80% [00000000000000000000000000000000000         ] Iterations: 16000", 
        "Sampling:  81% [00000000000000000000000000000000000         ] Iterations: 16200"
       ]
      }, 
      {
       "output_type": "stream", 
       "stream": "stderr", 
       "text": [
        "Sampling:  82% [000000000000000000000000000000000000        ] Iterations: 16400", 
        "Sampling:  83% [000000000000000000000000000000000000        ] Iterations: 16600", 
        "Sampling:  84% [000000000000000000000000000000000000        ] Iterations: 16800", 
        "Sampling:  85% [0000000000000000000000000000000000000       ] Iterations: 17000", 
        "Sampling:  86% [0000000000000000000000000000000000000       ] Iterations: 17200"
       ]
      }, 
      {
       "output_type": "stream", 
       "stream": "stderr", 
       "text": [
        "Sampling:  87% [00000000000000000000000000000000000000      ] Iterations: 17400", 
        "Sampling:  88% [00000000000000000000000000000000000000      ] Iterations: 17600", 
        "Sampling:  89% [000000000000000000000000000000000000000     ] Iterations: 17800", 
        "Sampling:  90% [000000000000000000000000000000000000000     ] Iterations: 18000", 
        "Sampling:  91% [0000000000000000000000000000000000000000    ] Iterations: 18200"
       ]
      }, 
      {
       "output_type": "stream", 
       "stream": "stderr", 
       "text": [
        "Sampling:  92% [0000000000000000000000000000000000000000    ] Iterations: 18400", 
        "Sampling:  93% [0000000000000000000000000000000000000000    ] Iterations: 18600", 
        "Sampling:  94% [00000000000000000000000000000000000000000   ] Iterations: 18800", 
        "Sampling:  95% [00000000000000000000000000000000000000000   ] Iterations: 19000", 
        "Sampling:  96% [000000000000000000000000000000000000000000  ] Iterations: 19200"
       ]
      }, 
      {
       "output_type": "stream", 
       "stream": "stderr", 
       "text": [
        "Sampling:  97% [000000000000000000000000000000000000000000  ] Iterations: 19400", 
        "Sampling:  98% [0000000000000000000000000000000000000000000 ] Iterations: 19600", 
        "Sampling:  99% [0000000000000000000000000000000000000000000 ] Iterations: 19800", 
        "Sampling: 100% [00000000000000000000000000000000000000000000] Iterations: 20000"
       ]
      }
     ], 
     "prompt_number": 5
    }, 
    {
     "cell_type": "code", 
     "collapsed": false, 
     "input": [
      "### @export 'negative-binomial-model'", 
      "pi = mc.Uniform('pi', lower=0, upper=1, value=.5)", 
      "delta = mc.Uninformative('delta', value=100.)", 
      "", 
      "@mc.potential", 
      "def obs(pi=pi, delta=delta):", 
      "    return mc.negative_binomial_like(r*n, pi*n, delta)", 
      "", 
      "@mc.deterministic", 
      "def pred(pi=pi, delta=delta):", 
      "    return mc.rnegative_binomial(pi*n_pred, delta) / float(n_pred)", 
      "", 
      "### @export 'negative-binomial-fit-and-store'", 
      "mc.MCMC([pi, delta, obs, pred]).sample(iter, burn, thin)", 
      "", 
      "results['Negative binomial'] = dict(pi=pi.stats(), pred=pred.stats())"
     ], 
     "language": "python", 
     "outputs": [
      {
       "output_type": "stream", 
       "stream": "stderr", 
       "text": [
        "Sampling:   0% [                                                ] Iterations: 0", 
        "Sampling:   1% [                                              ] Iterations: 200"
       ]
      }, 
      {
       "output_type": "stream", 
       "stream": "stderr", 
       "text": [
        "Sampling:   2% [                                              ] Iterations: 400", 
        "Sampling:   3% [0                                             ] Iterations: 600", 
        "Sampling:   4% [0                                             ] Iterations: 800"
       ]
      }, 
      {
       "output_type": "stream", 
       "stream": "stderr", 
       "text": [
        "Sampling:   5% [00                                           ] Iterations: 1000", 
        "Sampling:   6% [00                                           ] Iterations: 1200", 
        "Sampling:   7% [000                                          ] Iterations: 1400"
       ]
      }, 
      {
       "output_type": "stream", 
       "stream": "stderr", 
       "text": [
        "Sampling:   8% [000                                          ] Iterations: 1600", 
        "Sampling:   9% [0000                                         ] Iterations: 1800", 
        "Sampling:  10% [0000                                         ] Iterations: 2000"
       ]
      }, 
      {
       "output_type": "stream", 
       "stream": "stderr", 
       "text": [
        "Sampling:  11% [0000                                         ] Iterations: 2200", 
        "Sampling:  12% [00000                                        ] Iterations: 2400", 
        "Sampling:  13% [00000                                        ] Iterations: 2600"
       ]
      }, 
      {
       "output_type": "stream", 
       "stream": "stderr", 
       "text": [
        "Sampling:  14% [000000                                       ] Iterations: 2800", 
        "Sampling:  15% [000000                                       ] Iterations: 3000", 
        "Sampling:  16% [0000000                                      ] Iterations: 3200"
       ]
      }, 
      {
       "output_type": "stream", 
       "stream": "stderr", 
       "text": [
        "Sampling:  17% [0000000                                      ] Iterations: 3400", 
        "Sampling:  18% [00000000                                     ] Iterations: 3600", 
        "Sampling:  19% [00000000                                     ] Iterations: 3800"
       ]
      }, 
      {
       "output_type": "stream", 
       "stream": "stderr", 
       "text": [
        "Sampling:  20% [000000000                                    ] Iterations: 4000", 
        "Sampling:  21% [000000000                                    ] Iterations: 4200", 
        "Sampling:  22% [000000000                                    ] Iterations: 4400"
       ]
      }, 
      {
       "output_type": "stream", 
       "stream": "stderr", 
       "text": [
        "Sampling:  23% [0000000000                                   ] Iterations: 4600", 
        "Sampling:  24% [0000000000                                   ] Iterations: 4800", 
        "Sampling:  25% [00000000000                                  ] Iterations: 5000"
       ]
      }, 
      {
       "output_type": "stream", 
       "stream": "stderr", 
       "text": [
        "Sampling:  26% [00000000000                                  ] Iterations: 5200", 
        "Sampling:  27% [000000000000                                 ] Iterations: 5400", 
        "Sampling:  28% [000000000000                                 ] Iterations: 5600"
       ]
      }, 
      {
       "output_type": "stream", 
       "stream": "stderr", 
       "text": [
        "Sampling:  29% [0000000000000                                ] Iterations: 5800", 
        "Sampling:  29% [0000000000000                                ] Iterations: 5801", 
        "Sampling:  30% [0000000000000                                ] Iterations: 6000", 
        "Sampling:  31% [0000000000000                                ] Iterations: 6200"
       ]
      }, 
      {
       "output_type": "stream", 
       "stream": "stderr", 
       "text": [
        "Sampling:  32% [00000000000000                               ] Iterations: 6400", 
        "Sampling:  33% [00000000000000                               ] Iterations: 6600", 
        "Sampling:  34% [000000000000000                              ] Iterations: 6800"
       ]
      }, 
      {
       "output_type": "stream", 
       "stream": "stderr", 
       "text": [
        "Sampling:  35% [000000000000000                              ] Iterations: 7000", 
        "Sampling:  36% [0000000000000000                             ] Iterations: 7200", 
        "Sampling:  37% [0000000000000000                             ] Iterations: 7400"
       ]
      }, 
      {
       "output_type": "stream", 
       "stream": "stderr", 
       "text": [
        "Sampling:  38% [00000000000000000                            ] Iterations: 7600", 
        "Sampling:  39% [00000000000000000                            ] Iterations: 7800", 
        "Sampling:  40% [000000000000000000                           ] Iterations: 8000"
       ]
      }, 
      {
       "output_type": "stream", 
       "stream": "stderr", 
       "text": [
        "Sampling:  41% [000000000000000000                           ] Iterations: 8200", 
        "Sampling:  42% [000000000000000000                           ] Iterations: 8400", 
        "Sampling:  43% [0000000000000000000                          ] Iterations: 8600"
       ]
      }, 
      {
       "output_type": "stream", 
       "stream": "stderr", 
       "text": [
        "Sampling:  44% [0000000000000000000                          ] Iterations: 8800", 
        "Sampling:  45% [00000000000000000000                         ] Iterations: 9000", 
        "Sampling:  46% [00000000000000000000                         ] Iterations: 9200"
       ]
      }, 
      {
       "output_type": "stream", 
       "stream": "stderr", 
       "text": [
        "Sampling:  47% [000000000000000000000                        ] Iterations: 9400", 
        "Sampling:  48% [000000000000000000000                        ] Iterations: 9600", 
        "Sampling:  49% [0000000000000000000000                       ] Iterations: 9800"
       ]
      }, 
      {
       "output_type": "stream", 
       "stream": "stderr", 
       "text": [
        "Sampling:  50% [0000000000000000000000                      ] Iterations: 10000", 
        "Sampling:  51% [0000000000000000000000                      ] Iterations: 10200", 
        "Sampling:  52% [0000000000000000000000                      ] Iterations: 10400"
       ]
      }, 
      {
       "output_type": "stream", 
       "stream": "stderr", 
       "text": [
        "Sampling:  53% [00000000000000000000000                     ] Iterations: 10600", 
        "Sampling:  54% [00000000000000000000000                     ] Iterations: 10800", 
        "Sampling:  55% [000000000000000000000000                    ] Iterations: 11000"
       ]
      }, 
      {
       "output_type": "stream", 
       "stream": "stderr", 
       "text": [
        "Sampling:  56% [000000000000000000000000                    ] Iterations: 11200", 
        "Sampling:  57% [0000000000000000000000000                   ] Iterations: 11400", 
        "Sampling:  57% [0000000000000000000000000                   ] Iterations: 11401", 
        "Sampling:  58% [0000000000000000000000000                   ] Iterations: 11600"
       ]
      }, 
      {
       "output_type": "stream", 
       "stream": "stderr", 
       "text": [
        "Sampling:  58% [0000000000000000000000000                   ] Iterations: 11601", 
        "Sampling:  59% [0000000000000000000000000                   ] Iterations: 11800", 
        "Sampling:  60% [00000000000000000000000000                  ] Iterations: 12000"
       ]
      }, 
      {
       "output_type": "stream", 
       "stream": "stderr", 
       "text": [
        "Sampling:  61% [00000000000000000000000000                  ] Iterations: 12200", 
        "Sampling:  62% [000000000000000000000000000                 ] Iterations: 12400", 
        "Sampling:  63% [000000000000000000000000000                 ] Iterations: 12600"
       ]
      }, 
      {
       "output_type": "stream", 
       "stream": "stderr", 
       "text": [
        "Sampling:  64% [0000000000000000000000000000                ] Iterations: 12800", 
        "Sampling:  65% [0000000000000000000000000000                ] Iterations: 13000", 
        "Sampling:  66% [00000000000000000000000000000               ] Iterations: 13200"
       ]
      }, 
      {
       "output_type": "stream", 
       "stream": "stderr", 
       "text": [
        "Sampling:  67% [00000000000000000000000000000               ] Iterations: 13400", 
        "Sampling:  68% [00000000000000000000000000000               ] Iterations: 13600", 
        "Sampling:  69% [000000000000000000000000000000              ] Iterations: 13800"
       ]
      }, 
      {
       "output_type": "stream", 
       "stream": "stderr", 
       "text": [
        "Sampling:  70% [000000000000000000000000000000              ] Iterations: 14000", 
        "Sampling:  71% [0000000000000000000000000000000             ] Iterations: 14200", 
        "Sampling:  72% [0000000000000000000000000000000             ] Iterations: 14400"
       ]
      }, 
      {
       "output_type": "stream", 
       "stream": "stderr", 
       "text": [
        "Sampling:  73% [00000000000000000000000000000000            ] Iterations: 14600", 
        "Sampling:  74% [00000000000000000000000000000000            ] Iterations: 14800", 
        "Sampling:  75% [000000000000000000000000000000000           ] Iterations: 15000"
       ]
      }, 
      {
       "output_type": "stream", 
       "stream": "stderr", 
       "text": [
        "Sampling:  76% [000000000000000000000000000000000           ] Iterations: 15200", 
        "Sampling:  77% [000000000000000000000000000000000           ] Iterations: 15400", 
        "Sampling:  78% [0000000000000000000000000000000000          ] Iterations: 15600"
       ]
      }, 
      {
       "output_type": "stream", 
       "stream": "stderr", 
       "text": [
        "Sampling:  79% [0000000000000000000000000000000000          ] Iterations: 15800", 
        "Sampling:  80% [00000000000000000000000000000000000         ] Iterations: 16000", 
        "Sampling:  81% [00000000000000000000000000000000000         ] Iterations: 16200"
       ]
      }, 
      {
       "output_type": "stream", 
       "stream": "stderr", 
       "text": [
        "Sampling:  82% [000000000000000000000000000000000000        ] Iterations: 16400", 
        "Sampling:  83% [000000000000000000000000000000000000        ] Iterations: 16600", 
        "Sampling:  84% [000000000000000000000000000000000000        ] Iterations: 16800"
       ]
      }, 
      {
       "output_type": "stream", 
       "stream": "stderr", 
       "text": [
        "Sampling:  85% [0000000000000000000000000000000000000       ] Iterations: 17000", 
        "Sampling:  86% [0000000000000000000000000000000000000       ] Iterations: 17200", 
        "Sampling:  87% [00000000000000000000000000000000000000      ] Iterations: 17400"
       ]
      }, 
      {
       "output_type": "stream", 
       "stream": "stderr", 
       "text": [
        "Sampling:  88% [00000000000000000000000000000000000000      ] Iterations: 17600", 
        "Sampling:  89% [000000000000000000000000000000000000000     ] Iterations: 17800", 
        "Sampling:  90% [000000000000000000000000000000000000000     ] Iterations: 18000"
       ]
      }, 
      {
       "output_type": "stream", 
       "stream": "stderr", 
       "text": [
        "Sampling:  91% [0000000000000000000000000000000000000000    ] Iterations: 18200", 
        "Sampling:  92% [0000000000000000000000000000000000000000    ] Iterations: 18400", 
        "Sampling:  93% [0000000000000000000000000000000000000000    ] Iterations: 18600"
       ]
      }, 
      {
       "output_type": "stream", 
       "stream": "stderr", 
       "text": [
        "Sampling:  94% [00000000000000000000000000000000000000000   ] Iterations: 18800", 
        "Sampling:  95% [00000000000000000000000000000000000000000   ] Iterations: 19000", 
        "Sampling:  96% [000000000000000000000000000000000000000000  ] Iterations: 19200"
       ]
      }, 
      {
       "output_type": "stream", 
       "stream": "stderr", 
       "text": [
        "Sampling:  97% [000000000000000000000000000000000000000000  ] Iterations: 19400", 
        "Sampling:  98% [0000000000000000000000000000000000000000000 ] Iterations: 19600", 
        "Sampling:  99% [0000000000000000000000000000000000000000000 ] Iterations: 19800"
       ]
      }, 
      {
       "output_type": "stream", 
       "stream": "stderr", 
       "text": [
        "Sampling: 100% [00000000000000000000000000000000000000000000] Iterations: 20000"
       ]
      }
     ], 
     "prompt_number": 6
    }, 
    {
     "cell_type": "code", 
     "collapsed": false, 
     "input": [
      "### @export 'normal-model'", 
      "pi = mc.Uniform('pi', lower=0, upper=1, value=.5)", 
      "sigma = mc.Uniform('sigma', lower=0, upper=10, value=.01)", 
      "", 
      "@mc.potential", 
      "def obs(pi=pi, sigma=sigma):", 
      "    return mc.normal_like(r, pi, 1./(s**2 + sigma**2))", 
      "", 
      "@mc.deterministic", 
      "def pred(pi=pi, sigma=sigma):", 
      "    s_pred = pl.sqrt(pi*(1-pi)/n_pred)", 
      "    return mc.rnormal(pi, 1./(s_pred + sigma))", 
      "", 
      "### @export 'normal-fit-and-store'", 
      "mc.MCMC([pi, sigma, obs, pred]).sample(iter, burn, thin)", 
      "", 
      "results['Normal'] = dict(pi=pi.stats(), pred=pred.stats())"
     ], 
     "language": "python", 
     "outputs": [
      {
       "output_type": "stream", 
       "stream": "stderr", 
       "text": [
        "Sampling:   0% [                                                ] Iterations: 0", 
        "Sampling:   1% [                                              ] Iterations: 200", 
        "Sampling:   2% [                                              ] Iterations: 400"
       ]
      }, 
      {
       "output_type": "stream", 
       "stream": "stderr", 
       "text": [
        "Sampling:   3% [0                                             ] Iterations: 600", 
        "Sampling:   4% [0                                             ] Iterations: 800"
       ]
      }, 
      {
       "output_type": "stream", 
       "stream": "stderr", 
       "text": [
        "Sampling:   5% [00                                           ] Iterations: 1000", 
        "Sampling:   6% [00                                           ] Iterations: 1200"
       ]
      }, 
      {
       "output_type": "stream", 
       "stream": "stderr", 
       "text": [
        "Sampling:   7% [000                                          ] Iterations: 1400", 
        "Sampling:   8% [000                                          ] Iterations: 1600", 
        "Sampling:   9% [0000                                         ] Iterations: 1800"
       ]
      }, 
      {
       "output_type": "stream", 
       "stream": "stderr", 
       "text": [
        "Sampling:  10% [0000                                         ] Iterations: 2000", 
        "Sampling:  11% [0000                                         ] Iterations: 2200", 
        "Sampling:  12% [00000                                        ] Iterations: 2400", 
        "Sampling:  13% [00000                                        ] Iterations: 2600"
       ]
      }, 
      {
       "output_type": "stream", 
       "stream": "stderr", 
       "text": [
        "Sampling:  14% [000000                                       ] Iterations: 2800", 
        "Sampling:  15% [000000                                       ] Iterations: 3000", 
        "Sampling:  16% [0000000                                      ] Iterations: 3200"
       ]
      }, 
      {
       "output_type": "stream", 
       "stream": "stderr", 
       "text": [
        "Sampling:  17% [0000000                                      ] Iterations: 3400", 
        "Sampling:  18% [00000000                                     ] Iterations: 3600", 
        "Sampling:  19% [00000000                                     ] Iterations: 3800"
       ]
      }, 
      {
       "output_type": "stream", 
       "stream": "stderr", 
       "text": [
        "Sampling:  20% [000000000                                    ] Iterations: 4000", 
        "Sampling:  21% [000000000                                    ] Iterations: 4200", 
        "Sampling:  22% [000000000                                    ] Iterations: 4400"
       ]
      }, 
      {
       "output_type": "stream", 
       "stream": "stderr", 
       "text": [
        "Sampling:  23% [0000000000                                   ] Iterations: 4600", 
        "Sampling:  24% [0000000000                                   ] Iterations: 4800", 
        "Sampling:  25% [00000000000                                  ] Iterations: 5000"
       ]
      }, 
      {
       "output_type": "stream", 
       "stream": "stderr", 
       "text": [
        "Sampling:  26% [00000000000                                  ] Iterations: 5200", 
        "Sampling:  27% [000000000000                                 ] Iterations: 5400", 
        "Sampling:  28% [000000000000                                 ] Iterations: 5600"
       ]
      }, 
      {
       "output_type": "stream", 
       "stream": "stderr", 
       "text": [
        "Sampling:  29% [0000000000000                                ] Iterations: 5800", 
        "Sampling:  29% [0000000000000                                ] Iterations: 5801", 
        "Sampling:  30% [0000000000000                                ] Iterations: 6000", 
        "Sampling:  31% [0000000000000                                ] Iterations: 6200"
       ]
      }, 
      {
       "output_type": "stream", 
       "stream": "stderr", 
       "text": [
        "Sampling:  32% [00000000000000                               ] Iterations: 6400", 
        "Sampling:  33% [00000000000000                               ] Iterations: 6600", 
        "Sampling:  34% [000000000000000                              ] Iterations: 6800"
       ]
      }, 
      {
       "output_type": "stream", 
       "stream": "stderr", 
       "text": [
        "Sampling:  35% [000000000000000                              ] Iterations: 7000", 
        "Sampling:  36% [0000000000000000                             ] Iterations: 7200", 
        "Sampling:  37% [0000000000000000                             ] Iterations: 7400"
       ]
      }, 
      {
       "output_type": "stream", 
       "stream": "stderr", 
       "text": [
        "Sampling:  38% [00000000000000000                            ] Iterations: 7600", 
        "Sampling:  39% [00000000000000000                            ] Iterations: 7800", 
        "Sampling:  40% [000000000000000000                           ] Iterations: 8000"
       ]
      }, 
      {
       "output_type": "stream", 
       "stream": "stderr", 
       "text": [
        "Sampling:  41% [000000000000000000                           ] Iterations: 8200", 
        "Sampling:  42% [000000000000000000                           ] Iterations: 8400", 
        "Sampling:  43% [0000000000000000000                          ] Iterations: 8600"
       ]
      }, 
      {
       "output_type": "stream", 
       "stream": "stderr", 
       "text": [
        "Sampling:  44% [0000000000000000000                          ] Iterations: 8800", 
        "Sampling:  45% [00000000000000000000                         ] Iterations: 9000", 
        "Sampling:  46% [00000000000000000000                         ] Iterations: 9200"
       ]
      }, 
      {
       "output_type": "stream", 
       "stream": "stderr", 
       "text": [
        "Sampling:  47% [000000000000000000000                        ] Iterations: 9400", 
        "Sampling:  48% [000000000000000000000                        ] Iterations: 9600", 
        "Sampling:  49% [0000000000000000000000                       ] Iterations: 9800"
       ]
      }, 
      {
       "output_type": "stream", 
       "stream": "stderr", 
       "text": [
        "Sampling:  50% [0000000000000000000000                      ] Iterations: 10000", 
        "Sampling:  51% [0000000000000000000000                      ] Iterations: 10200", 
        "Sampling:  52% [0000000000000000000000                      ] Iterations: 10400"
       ]
      }, 
      {
       "output_type": "stream", 
       "stream": "stderr", 
       "text": [
        "Sampling:  53% [00000000000000000000000                     ] Iterations: 10600", 
        "Sampling:  54% [00000000000000000000000                     ] Iterations: 10800", 
        "Sampling:  55% [000000000000000000000000                    ] Iterations: 11000"
       ]
      }, 
      {
       "output_type": "stream", 
       "stream": "stderr", 
       "text": [
        "Sampling:  56% [000000000000000000000000                    ] Iterations: 11200", 
        "Sampling:  57% [0000000000000000000000000                   ] Iterations: 11400", 
        "Sampling:  57% [0000000000000000000000000                   ] Iterations: 11401", 
        "Sampling:  58% [0000000000000000000000000                   ] Iterations: 11600"
       ]
      }, 
      {
       "output_type": "stream", 
       "stream": "stderr", 
       "text": [
        "Sampling:  58% [0000000000000000000000000                   ] Iterations: 11601", 
        "Sampling:  59% [0000000000000000000000000                   ] Iterations: 11800", 
        "Sampling:  60% [00000000000000000000000000                  ] Iterations: 12000"
       ]
      }, 
      {
       "output_type": "stream", 
       "stream": "stderr", 
       "text": [
        "Sampling:  61% [00000000000000000000000000                  ] Iterations: 12200", 
        "Sampling:  62% [000000000000000000000000000                 ] Iterations: 12400", 
        "Sampling:  63% [000000000000000000000000000                 ] Iterations: 12600"
       ]
      }, 
      {
       "output_type": "stream", 
       "stream": "stderr", 
       "text": [
        "Sampling:  64% [0000000000000000000000000000                ] Iterations: 12800", 
        "Sampling:  65% [0000000000000000000000000000                ] Iterations: 13000"
       ]
      }, 
      {
       "output_type": "stream", 
       "stream": "stderr", 
       "text": [
        "Sampling:  66% [00000000000000000000000000000               ] Iterations: 13200", 
        "Sampling:  67% [00000000000000000000000000000               ] Iterations: 13400"
       ]
      }, 
      {
       "output_type": "stream", 
       "stream": "stderr", 
       "text": [
        "Sampling:  68% [00000000000000000000000000000               ] Iterations: 13600", 
        "Sampling:  69% [000000000000000000000000000000              ] Iterations: 13800"
       ]
      }, 
      {
       "output_type": "stream", 
       "stream": "stderr", 
       "text": [
        "Sampling:  70% [000000000000000000000000000000              ] Iterations: 14000", 
        "Sampling:  71% [0000000000000000000000000000000             ] Iterations: 14200", 
        "Sampling:  72% [0000000000000000000000000000000             ] Iterations: 14400"
       ]
      }, 
      {
       "output_type": "stream", 
       "stream": "stderr", 
       "text": [
        "Sampling:  73% [00000000000000000000000000000000            ] Iterations: 14600", 
        "Sampling:  74% [00000000000000000000000000000000            ] Iterations: 14800", 
        "Sampling:  75% [000000000000000000000000000000000           ] Iterations: 15000"
       ]
      }, 
      {
       "output_type": "stream", 
       "stream": "stderr", 
       "text": [
        "Sampling:  76% [000000000000000000000000000000000           ] Iterations: 15200", 
        "Sampling:  77% [000000000000000000000000000000000           ] Iterations: 15400", 
        "Sampling:  78% [0000000000000000000000000000000000          ] Iterations: 15600"
       ]
      }, 
      {
       "output_type": "stream", 
       "stream": "stderr", 
       "text": [
        "Sampling:  79% [0000000000000000000000000000000000          ] Iterations: 15800", 
        "Sampling:  80% [00000000000000000000000000000000000         ] Iterations: 16000", 
        "Sampling:  81% [00000000000000000000000000000000000         ] Iterations: 16200"
       ]
      }, 
      {
       "output_type": "stream", 
       "stream": "stderr", 
       "text": [
        "Sampling:  82% [000000000000000000000000000000000000        ] Iterations: 16400", 
        "Sampling:  83% [000000000000000000000000000000000000        ] Iterations: 16600", 
        "Sampling:  84% [000000000000000000000000000000000000        ] Iterations: 16800"
       ]
      }, 
      {
       "output_type": "stream", 
       "stream": "stderr", 
       "text": [
        "Sampling:  85% [0000000000000000000000000000000000000       ] Iterations: 17000", 
        "Sampling:  86% [0000000000000000000000000000000000000       ] Iterations: 17200", 
        "Sampling:  87% [00000000000000000000000000000000000000      ] Iterations: 17400"
       ]
      }, 
      {
       "output_type": "stream", 
       "stream": "stderr", 
       "text": [
        "Sampling:  88% [00000000000000000000000000000000000000      ] Iterations: 17600", 
        "Sampling:  89% [000000000000000000000000000000000000000     ] Iterations: 17800"
       ]
      }, 
      {
       "output_type": "stream", 
       "stream": "stderr", 
       "text": [
        "Sampling:  90% [000000000000000000000000000000000000000     ] Iterations: 18000", 
        "Sampling:  91% [0000000000000000000000000000000000000000    ] Iterations: 18200", 
        "Sampling:  92% [0000000000000000000000000000000000000000    ] Iterations: 18400"
       ]
      }, 
      {
       "output_type": "stream", 
       "stream": "stderr", 
       "text": [
        "Sampling:  93% [0000000000000000000000000000000000000000    ] Iterations: 18600", 
        "Sampling:  94% [00000000000000000000000000000000000000000   ] Iterations: 18800", 
        "Sampling:  95% [00000000000000000000000000000000000000000   ] Iterations: 19000"
       ]
      }, 
      {
       "output_type": "stream", 
       "stream": "stderr", 
       "text": [
        "Sampling:  96% [000000000000000000000000000000000000000000  ] Iterations: 19200", 
        "Sampling:  97% [000000000000000000000000000000000000000000  ] Iterations: 19400", 
        "Sampling:  98% [0000000000000000000000000000000000000000000 ] Iterations: 19600"
       ]
      }, 
      {
       "output_type": "stream", 
       "stream": "stderr", 
       "text": [
        "Sampling:  99% [0000000000000000000000000000000000000000000 ] Iterations: 19800", 
        "Sampling: 100% [00000000000000000000000000000000000000000000] Iterations: 20000"
       ]
      }
     ], 
     "prompt_number": 7
    }, 
    {
     "cell_type": "code", 
     "collapsed": false, 
     "input": [
      "### @export 'log-normal-model'", 
      "pi = mc.Uniform('pi', lower=0, upper=1, value=.5)", 
      "sigma = mc.Uniform('sigma', lower=0, upper=10, value=.01)", 
      "", 
      "@mc.potential", 
      "def obs(pi=pi, sigma=sigma):", 
      "    return mc.normal_like(pl.log(r), pl.log(pi), 1./((s/r)**2 + sigma**2))", 
      "", 
      "pred_s = pl.sqrt(r * (1-r) / n_pred)", 
      "@mc.deterministic", 
      "def pred(pi=pi, sigma=sigma):", 
      "    s_pred = pl.sqrt(pi*(1-pi)/n_pred)", 
      "    return pl.exp(mc.rnormal(pl.log(pi), 1./((s_pred/pi)**2 + sigma**2)))", 
      "", 
      "### @export 'log-normal-fit-and-store'", 
      "mc.MCMC([pi, sigma, obs, pred]).sample(iter, burn, thin)", 
      "", 
      "results['Lognormal'] = dict(pi=pi.stats(), pred=pred.stats())"
     ], 
     "language": "python", 
     "outputs": [
      {
       "output_type": "stream", 
       "stream": "stderr", 
       "text": [
        "Sampling:   0% [                                                ] Iterations: 0", 
        "Sampling:   1% [                                              ] Iterations: 200"
       ]
      }, 
      {
       "output_type": "stream", 
       "stream": "stderr", 
       "text": [
        "Sampling:   2% [                                              ] Iterations: 400", 
        "Sampling:   3% [0                                             ] Iterations: 600", 
        "Sampling:   4% [0                                             ] Iterations: 800"
       ]
      }, 
      {
       "output_type": "stream", 
       "stream": "stderr", 
       "text": [
        "Sampling:   5% [00                                           ] Iterations: 1000", 
        "Sampling:   6% [00                                           ] Iterations: 1200", 
        "Sampling:   7% [000                                          ] Iterations: 1400"
       ]
      }, 
      {
       "output_type": "stream", 
       "stream": "stderr", 
       "text": [
        "Sampling:   8% [000                                          ] Iterations: 1600", 
        "Sampling:   9% [0000                                         ] Iterations: 1800"
       ]
      }, 
      {
       "output_type": "stream", 
       "stream": "stderr", 
       "text": [
        "Sampling:  10% [0000                                         ] Iterations: 2000", 
        "Sampling:  11% [0000                                         ] Iterations: 2200"
       ]
      }, 
      {
       "output_type": "stream", 
       "stream": "stderr", 
       "text": [
        "Sampling:  12% [00000                                        ] Iterations: 2400", 
        "Sampling:  13% [00000                                        ] Iterations: 2600", 
        "Sampling:  14% [000000                                       ] Iterations: 2800"
       ]
      }, 
      {
       "output_type": "stream", 
       "stream": "stderr", 
       "text": [
        "Sampling:  15% [000000                                       ] Iterations: 3000", 
        "Sampling:  16% [0000000                                      ] Iterations: 3200", 
        "Sampling:  17% [0000000                                      ] Iterations: 3400"
       ]
      }, 
      {
       "output_type": "stream", 
       "stream": "stderr", 
       "text": [
        "Sampling:  18% [00000000                                     ] Iterations: 3600", 
        "Sampling:  19% [00000000                                     ] Iterations: 3800", 
        "Sampling:  20% [000000000                                    ] Iterations: 4000"
       ]
      }, 
      {
       "output_type": "stream", 
       "stream": "stderr", 
       "text": [
        "Sampling:  21% [000000000                                    ] Iterations: 4200", 
        "Sampling:  22% [000000000                                    ] Iterations: 4400", 
        "Sampling:  23% [0000000000                                   ] Iterations: 4600"
       ]
      }, 
      {
       "output_type": "stream", 
       "stream": "stderr", 
       "text": [
        "Sampling:  24% [0000000000                                   ] Iterations: 4800", 
        "Sampling:  25% [00000000000                                  ] Iterations: 5000", 
        "Sampling:  26% [00000000000                                  ] Iterations: 5200"
       ]
      }, 
      {
       "output_type": "stream", 
       "stream": "stderr", 
       "text": [
        "Sampling:  27% [000000000000                                 ] Iterations: 5400", 
        "Sampling:  28% [000000000000                                 ] Iterations: 5600", 
        "Sampling:  29% [0000000000000                                ] Iterations: 5800"
       ]
      }, 
      {
       "output_type": "stream", 
       "stream": "stderr", 
       "text": [
        "Sampling:  29% [0000000000000                                ] Iterations: 5801", 
        "Sampling:  30% [0000000000000                                ] Iterations: 6000", 
        "Sampling:  31% [0000000000000                                ] Iterations: 6200"
       ]
      }, 
      {
       "output_type": "stream", 
       "stream": "stderr", 
       "text": [
        "Sampling:  32% [00000000000000                               ] Iterations: 6400", 
        "Sampling:  33% [00000000000000                               ] Iterations: 6600", 
        "Sampling:  34% [000000000000000                              ] Iterations: 6800"
       ]
      }, 
      {
       "output_type": "stream", 
       "stream": "stderr", 
       "text": [
        "Sampling:  35% [000000000000000                              ] Iterations: 7000", 
        "Sampling:  36% [0000000000000000                             ] Iterations: 7200"
       ]
      }, 
      {
       "output_type": "stream", 
       "stream": "stderr", 
       "text": [
        "Sampling:  37% [0000000000000000                             ] Iterations: 7400", 
        "Sampling:  38% [00000000000000000                            ] Iterations: 7600"
       ]
      }, 
      {
       "output_type": "stream", 
       "stream": "stderr", 
       "text": [
        "Sampling:  39% [00000000000000000                            ] Iterations: 7800", 
        "Sampling:  40% [000000000000000000                           ] Iterations: 8000", 
        "Sampling:  41% [000000000000000000                           ] Iterations: 8200"
       ]
      }, 
      {
       "output_type": "stream", 
       "stream": "stderr", 
       "text": [
        "Sampling:  42% [000000000000000000                           ] Iterations: 8400", 
        "Sampling:  43% [0000000000000000000                          ] Iterations: 8600", 
        "Sampling:  44% [0000000000000000000                          ] Iterations: 8800"
       ]
      }, 
      {
       "output_type": "stream", 
       "stream": "stderr", 
       "text": [
        "Sampling:  45% [00000000000000000000                         ] Iterations: 9000", 
        "Sampling:  46% [00000000000000000000                         ] Iterations: 9200"
       ]
      }, 
      {
       "output_type": "stream", 
       "stream": "stderr", 
       "text": [
        "Sampling:  47% [000000000000000000000                        ] Iterations: 9400", 
        "Sampling:  48% [000000000000000000000                        ] Iterations: 9600"
       ]
      }, 
      {
       "output_type": "stream", 
       "stream": "stderr", 
       "text": [
        "Sampling:  49% [0000000000000000000000                       ] Iterations: 9800", 
        "Sampling:  50% [0000000000000000000000                      ] Iterations: 10000"
       ]
      }, 
      {
       "output_type": "stream", 
       "stream": "stderr", 
       "text": [
        "Sampling:  51% [0000000000000000000000                      ] Iterations: 10200", 
        "Sampling:  52% [0000000000000000000000                      ] Iterations: 10400"
       ]
      }, 
      {
       "output_type": "stream", 
       "stream": "stderr", 
       "text": [
        "Sampling:  53% [00000000000000000000000                     ] Iterations: 10600", 
        "Sampling:  54% [00000000000000000000000                     ] Iterations: 10800"
       ]
      }, 
      {
       "output_type": "stream", 
       "stream": "stderr", 
       "text": [
        "Sampling:  55% [000000000000000000000000                    ] Iterations: 11000", 
        "Sampling:  56% [000000000000000000000000                    ] Iterations: 11200", 
        "Sampling:  57% [0000000000000000000000000                   ] Iterations: 11400"
       ]
      }, 
      {
       "output_type": "stream", 
       "stream": "stderr", 
       "text": [
        "Sampling:  57% [0000000000000000000000000                   ] Iterations: 11401", 
        "Sampling:  58% [0000000000000000000000000                   ] Iterations: 11600"
       ]
      }, 
      {
       "output_type": "stream", 
       "stream": "stderr", 
       "text": [
        "Sampling:  58% [0000000000000000000000000                   ] Iterations: 11601", 
        "Sampling:  59% [0000000000000000000000000                   ] Iterations: 11800"
       ]
      }, 
      {
       "output_type": "stream", 
       "stream": "stderr", 
       "text": [
        "Sampling:  60% [00000000000000000000000000                  ] Iterations: 12000", 
        "Sampling:  61% [00000000000000000000000000                  ] Iterations: 12200", 
        "Sampling:  62% [000000000000000000000000000                 ] Iterations: 12400"
       ]
      }, 
      {
       "output_type": "stream", 
       "stream": "stderr", 
       "text": [
        "Sampling:  63% [000000000000000000000000000                 ] Iterations: 12600", 
        "Sampling:  64% [0000000000000000000000000000                ] Iterations: 12800", 
        "Sampling:  65% [0000000000000000000000000000                ] Iterations: 13000"
       ]
      }, 
      {
       "output_type": "stream", 
       "stream": "stderr", 
       "text": [
        "Sampling:  66% [00000000000000000000000000000               ] Iterations: 13200", 
        "Sampling:  67% [00000000000000000000000000000               ] Iterations: 13400", 
        "Sampling:  68% [00000000000000000000000000000               ] Iterations: 13600"
       ]
      }, 
      {
       "output_type": "stream", 
       "stream": "stderr", 
       "text": [
        "Sampling:  69% [000000000000000000000000000000              ] Iterations: 13800", 
        "Sampling:  70% [000000000000000000000000000000              ] Iterations: 14000", 
        "Sampling:  71% [0000000000000000000000000000000             ] Iterations: 14200"
       ]
      }, 
      {
       "output_type": "stream", 
       "stream": "stderr", 
       "text": [
        "Sampling:  72% [0000000000000000000000000000000             ] Iterations: 14400", 
        "Sampling:  73% [00000000000000000000000000000000            ] Iterations: 14600", 
        "Sampling:  74% [00000000000000000000000000000000            ] Iterations: 14800"
       ]
      }, 
      {
       "output_type": "stream", 
       "stream": "stderr", 
       "text": [
        "Sampling:  75% [000000000000000000000000000000000           ] Iterations: 15000", 
        "Sampling:  76% [000000000000000000000000000000000           ] Iterations: 15200", 
        "Sampling:  77% [000000000000000000000000000000000           ] Iterations: 15400"
       ]
      }, 
      {
       "output_type": "stream", 
       "stream": "stderr", 
       "text": [
        "Sampling:  78% [0000000000000000000000000000000000          ] Iterations: 15600", 
        "Sampling:  79% [0000000000000000000000000000000000          ] Iterations: 15800", 
        "Sampling:  80% [00000000000000000000000000000000000         ] Iterations: 16000"
       ]
      }, 
      {
       "output_type": "stream", 
       "stream": "stderr", 
       "text": [
        "Sampling:  81% [00000000000000000000000000000000000         ] Iterations: 16200", 
        "Sampling:  82% [000000000000000000000000000000000000        ] Iterations: 16400", 
        "Sampling:  83% [000000000000000000000000000000000000        ] Iterations: 16600"
       ]
      }, 
      {
       "output_type": "stream", 
       "stream": "stderr", 
       "text": [
        "Sampling:  84% [000000000000000000000000000000000000        ] Iterations: 16800", 
        "Sampling:  85% [0000000000000000000000000000000000000       ] Iterations: 17000", 
        "Sampling:  86% [0000000000000000000000000000000000000       ] Iterations: 17200"
       ]
      }, 
      {
       "output_type": "stream", 
       "stream": "stderr", 
       "text": [
        "Sampling:  87% [00000000000000000000000000000000000000      ] Iterations: 17400", 
        "Sampling:  88% [00000000000000000000000000000000000000      ] Iterations: 17600", 
        "Sampling:  89% [000000000000000000000000000000000000000     ] Iterations: 17800"
       ]
      }, 
      {
       "output_type": "stream", 
       "stream": "stderr", 
       "text": [
        "Sampling:  90% [000000000000000000000000000000000000000     ] Iterations: 18000", 
        "Sampling:  91% [0000000000000000000000000000000000000000    ] Iterations: 18200", 
        "Sampling:  92% [0000000000000000000000000000000000000000    ] Iterations: 18400"
       ]
      }, 
      {
       "output_type": "stream", 
       "stream": "stderr", 
       "text": [
        "Sampling:  93% [0000000000000000000000000000000000000000    ] Iterations: 18600", 
        "Sampling:  94% [00000000000000000000000000000000000000000   ] Iterations: 18800", 
        "Sampling:  95% [00000000000000000000000000000000000000000   ] Iterations: 19000"
       ]
      }, 
      {
       "output_type": "stream", 
       "stream": "stderr", 
       "text": [
        "Sampling:  96% [000000000000000000000000000000000000000000  ] Iterations: 19200", 
        "Sampling:  97% [000000000000000000000000000000000000000000  ] Iterations: 19400", 
        "Sampling:  98% [0000000000000000000000000000000000000000000 ] Iterations: 19600"
       ]
      }, 
      {
       "output_type": "stream", 
       "stream": "stderr", 
       "text": [
        "Sampling:  99% [0000000000000000000000000000000000000000000 ] Iterations: 19800", 
        "Sampling: 100% [00000000000000000000000000000000000000000000] Iterations: 20000"
       ]
      }
     ], 
     "prompt_number": 8
    }, 
    {
     "cell_type": "code", 
     "collapsed": false, 
     "input": [
      "### @export 'offset-log-normal-model'", 
      "pi = mc.Uniform('pi', lower=0, upper=1, value=.5)", 
      "zeta = mc.Uniform('zeta', lower=0, upper=.005, value=.001)", 
      "sigma = mc.Uniform('sigma', lower=0, upper=10, value=.01)", 
      "", 
      "@mc.potential", 
      "def obs(pi=pi, zeta=zeta, sigma=sigma):", 
      "    return mc.normal_like(pl.log(r+zeta), pl.log(pi+zeta), 1./((s/(r+zeta))**2 + sigma**2))", 
      "", 
      "@mc.deterministic", 
      "def pred(pi=pi, zeta=zeta, sigma=sigma):", 
      "    s_pred = pl.sqrt(pi*(1-pi)/n_pred)", 
      "    return pl.exp(mc.rnormal(pl.log(pi+zeta),", 
      "                    1./((s_pred/(pi+zeta))**2 + sigma**2))) \\", 
      "                - zeta", 
      "", 
      "### @export 'offset-log-normal-fit-and-store'", 
      "mc.MCMC([pi, zeta, sigma, obs, pred]).sample(iter, burn, thin)", 
      "", 
      "results['Offset lognormal'] = dict(pi=pi.stats(), pred=pred.stats())"
     ], 
     "language": "python", 
     "outputs": [
      {
       "output_type": "stream", 
       "stream": "stderr", 
       "text": [
        "Sampling:   0% [                                                ] Iterations: 0", 
        "Sampling:   1% [                                              ] Iterations: 200", 
        "Sampling:   2% [                                              ] Iterations: 400"
       ]
      }, 
      {
       "output_type": "stream", 
       "stream": "stderr", 
       "text": [
        "Sampling:   3% [0                                             ] Iterations: 600", 
        "Sampling:   4% [0                                             ] Iterations: 800"
       ]
      }, 
      {
       "output_type": "stream", 
       "stream": "stderr", 
       "text": [
        "Sampling:   5% [00                                           ] Iterations: 1000", 
        "Sampling:   6% [00                                           ] Iterations: 1200", 
        "Sampling:   7% [000                                          ] Iterations: 1400"
       ]
      }, 
      {
       "output_type": "stream", 
       "stream": "stderr", 
       "text": [
        "Sampling:   8% [000                                          ] Iterations: 1600", 
        "Sampling:   9% [0000                                         ] Iterations: 1800"
       ]
      }, 
      {
       "output_type": "stream", 
       "stream": "stderr", 
       "text": [
        "Sampling:  10% [0000                                         ] Iterations: 2000", 
        "Sampling:  11% [0000                                         ] Iterations: 2200"
       ]
      }, 
      {
       "output_type": "stream", 
       "stream": "stderr", 
       "text": [
        "Sampling:  12% [00000                                        ] Iterations: 2400", 
        "Sampling:  13% [00000                                        ] Iterations: 2600"
       ]
      }, 
      {
       "output_type": "stream", 
       "stream": "stderr", 
       "text": [
        "Sampling:  14% [000000                                       ] Iterations: 2800", 
        "Sampling:  15% [000000                                       ] Iterations: 3000", 
        "Sampling:  16% [0000000                                      ] Iterations: 3200"
       ]
      }, 
      {
       "output_type": "stream", 
       "stream": "stderr", 
       "text": [
        "Sampling:  17% [0000000                                      ] Iterations: 3400", 
        "Sampling:  18% [00000000                                     ] Iterations: 3600", 
        "Sampling:  19% [00000000                                     ] Iterations: 3800"
       ]
      }, 
      {
       "output_type": "stream", 
       "stream": "stderr", 
       "text": [
        "Sampling:  20% [000000000                                    ] Iterations: 4000", 
        "Sampling:  21% [000000000                                    ] Iterations: 4200"
       ]
      }, 
      {
       "output_type": "stream", 
       "stream": "stderr", 
       "text": [
        "Sampling:  22% [000000000                                    ] Iterations: 4400", 
        "Sampling:  23% [0000000000                                   ] Iterations: 4600"
       ]
      }, 
      {
       "output_type": "stream", 
       "stream": "stderr", 
       "text": [
        "Sampling:  24% [0000000000                                   ] Iterations: 4800", 
        "Sampling:  25% [00000000000                                  ] Iterations: 5000"
       ]
      }, 
      {
       "output_type": "stream", 
       "stream": "stderr", 
       "text": [
        "Sampling:  26% [00000000000                                  ] Iterations: 5200", 
        "Sampling:  27% [000000000000                                 ] Iterations: 5400"
       ]
      }, 
      {
       "output_type": "stream", 
       "stream": "stderr", 
       "text": [
        "Sampling:  28% [000000000000                                 ] Iterations: 5600", 
        "Sampling:  29% [0000000000000                                ] Iterations: 5800", 
        "Sampling:  29% [0000000000000                                ] Iterations: 5801", 
        "Sampling:  30% [0000000000000                                ] Iterations: 6000"
       ]
      }, 
      {
       "output_type": "stream", 
       "stream": "stderr", 
       "text": [
        "Sampling:  31% [0000000000000                                ] Iterations: 6200", 
        "Sampling:  32% [00000000000000                               ] Iterations: 6400", 
        "Sampling:  33% [00000000000000                               ] Iterations: 6600"
       ]
      }, 
      {
       "output_type": "stream", 
       "stream": "stderr", 
       "text": [
        "Sampling:  34% [000000000000000                              ] Iterations: 6800", 
        "Sampling:  35% [000000000000000                              ] Iterations: 7000"
       ]
      }, 
      {
       "output_type": "stream", 
       "stream": "stderr", 
       "text": [
        "Sampling:  36% [0000000000000000                             ] Iterations: 7200", 
        "Sampling:  37% [0000000000000000                             ] Iterations: 7400"
       ]
      }, 
      {
       "output_type": "stream", 
       "stream": "stderr", 
       "text": [
        "Sampling:  38% [00000000000000000                            ] Iterations: 7600", 
        "Sampling:  39% [00000000000000000                            ] Iterations: 7800", 
        "Sampling:  40% [000000000000000000                           ] Iterations: 8000"
       ]
      }, 
      {
       "output_type": "stream", 
       "stream": "stderr", 
       "text": [
        "Sampling:  41% [000000000000000000                           ] Iterations: 8200", 
        "Sampling:  42% [000000000000000000                           ] Iterations: 8400"
       ]
      }, 
      {
       "output_type": "stream", 
       "stream": "stderr", 
       "text": [
        "Sampling:  43% [0000000000000000000                          ] Iterations: 8600", 
        "Sampling:  44% [0000000000000000000                          ] Iterations: 8800", 
        "Sampling:  45% [00000000000000000000                         ] Iterations: 9000"
       ]
      }, 
      {
       "output_type": "stream", 
       "stream": "stderr", 
       "text": [
        "Sampling:  46% [00000000000000000000                         ] Iterations: 9200", 
        "Sampling:  47% [000000000000000000000                        ] Iterations: 9400"
       ]
      }, 
      {
       "output_type": "stream", 
       "stream": "stderr", 
       "text": [
        "Sampling:  48% [000000000000000000000                        ] Iterations: 9600", 
        "Sampling:  49% [0000000000000000000000                       ] Iterations: 9800"
       ]
      }, 
      {
       "output_type": "stream", 
       "stream": "stderr", 
       "text": [
        "Sampling:  50% [0000000000000000000000                      ] Iterations: 10000", 
        "Sampling:  51% [0000000000000000000000                      ] Iterations: 10200"
       ]
      }, 
      {
       "output_type": "stream", 
       "stream": "stderr", 
       "text": [
        "Sampling:  52% [0000000000000000000000                      ] Iterations: 10400", 
        "Sampling:  53% [00000000000000000000000                     ] Iterations: 10600"
       ]
      }, 
      {
       "output_type": "stream", 
       "stream": "stderr", 
       "text": [
        "Sampling:  54% [00000000000000000000000                     ] Iterations: 10800", 
        "Sampling:  55% [000000000000000000000000                    ] Iterations: 11000"
       ]
      }, 
      {
       "output_type": "stream", 
       "stream": "stderr", 
       "text": [
        "Sampling:  56% [000000000000000000000000                    ] Iterations: 11200", 
        "Sampling:  57% [0000000000000000000000000                   ] Iterations: 11400"
       ]
      }, 
      {
       "output_type": "stream", 
       "stream": "stderr", 
       "text": [
        "Sampling:  57% [0000000000000000000000000                   ] Iterations: 11401", 
        "Sampling:  58% [0000000000000000000000000                   ] Iterations: 11600"
       ]
      }, 
      {
       "output_type": "stream", 
       "stream": "stderr", 
       "text": [
        "Sampling:  58% [0000000000000000000000000                   ] Iterations: 11601", 
        "Sampling:  59% [0000000000000000000000000                   ] Iterations: 11800"
       ]
      }, 
      {
       "output_type": "stream", 
       "stream": "stderr", 
       "text": [
        "Sampling:  60% [00000000000000000000000000                  ] Iterations: 12000", 
        "Sampling:  61% [00000000000000000000000000                  ] Iterations: 12200"
       ]
      }, 
      {
       "output_type": "stream", 
       "stream": "stderr", 
       "text": [
        "Sampling:  62% [000000000000000000000000000                 ] Iterations: 12400", 
        "Sampling:  63% [000000000000000000000000000                 ] Iterations: 12600"
       ]
      }, 
      {
       "output_type": "stream", 
       "stream": "stderr", 
       "text": [
        "Sampling:  64% [0000000000000000000000000000                ] Iterations: 12800", 
        "Sampling:  65% [0000000000000000000000000000                ] Iterations: 13000"
       ]
      }, 
      {
       "output_type": "stream", 
       "stream": "stderr", 
       "text": [
        "Sampling:  66% [00000000000000000000000000000               ] Iterations: 13200", 
        "Sampling:  67% [00000000000000000000000000000               ] Iterations: 13400"
       ]
      }, 
      {
       "output_type": "stream", 
       "stream": "stderr", 
       "text": [
        "Sampling:  68% [00000000000000000000000000000               ] Iterations: 13600", 
        "Sampling:  69% [000000000000000000000000000000              ] Iterations: 13800"
       ]
      }, 
      {
       "output_type": "stream", 
       "stream": "stderr", 
       "text": [
        "Sampling:  70% [000000000000000000000000000000              ] Iterations: 14000", 
        "Sampling:  71% [0000000000000000000000000000000             ] Iterations: 14200"
       ]
      }, 
      {
       "output_type": "stream", 
       "stream": "stderr", 
       "text": [
        "Sampling:  72% [0000000000000000000000000000000             ] Iterations: 14400", 
        "Sampling:  73% [00000000000000000000000000000000            ] Iterations: 14600"
       ]
      }, 
      {
       "output_type": "stream", 
       "stream": "stderr", 
       "text": [
        "Sampling:  74% [00000000000000000000000000000000            ] Iterations: 14800", 
        "Sampling:  75% [000000000000000000000000000000000           ] Iterations: 15000"
       ]
      }, 
      {
       "output_type": "stream", 
       "stream": "stderr", 
       "text": [
        "Sampling:  76% [000000000000000000000000000000000           ] Iterations: 15200", 
        "Sampling:  77% [000000000000000000000000000000000           ] Iterations: 15400"
       ]
      }, 
      {
       "output_type": "stream", 
       "stream": "stderr", 
       "text": [
        "Sampling:  78% [0000000000000000000000000000000000          ] Iterations: 15600", 
        "Sampling:  79% [0000000000000000000000000000000000          ] Iterations: 15800"
       ]
      }, 
      {
       "output_type": "stream", 
       "stream": "stderr", 
       "text": [
        "Sampling:  80% [00000000000000000000000000000000000         ] Iterations: 16000", 
        "Sampling:  81% [00000000000000000000000000000000000         ] Iterations: 16200"
       ]
      }, 
      {
       "output_type": "stream", 
       "stream": "stderr", 
       "text": [
        "Sampling:  82% [000000000000000000000000000000000000        ] Iterations: 16400", 
        "Sampling:  83% [000000000000000000000000000000000000        ] Iterations: 16600"
       ]
      }, 
      {
       "output_type": "stream", 
       "stream": "stderr", 
       "text": [
        "Sampling:  84% [000000000000000000000000000000000000        ] Iterations: 16800", 
        "Sampling:  85% [0000000000000000000000000000000000000       ] Iterations: 17000", 
        "Sampling:  86% [0000000000000000000000000000000000000       ] Iterations: 17200"
       ]
      }, 
      {
       "output_type": "stream", 
       "stream": "stderr", 
       "text": [
        "Sampling:  87% [00000000000000000000000000000000000000      ] Iterations: 17400", 
        "Sampling:  88% [00000000000000000000000000000000000000      ] Iterations: 17600"
       ]
      }, 
      {
       "output_type": "stream", 
       "stream": "stderr", 
       "text": [
        "Sampling:  89% [000000000000000000000000000000000000000     ] Iterations: 17800", 
        "Sampling:  90% [000000000000000000000000000000000000000     ] Iterations: 18000"
       ]
      }, 
      {
       "output_type": "stream", 
       "stream": "stderr", 
       "text": [
        "Sampling:  91% [0000000000000000000000000000000000000000    ] Iterations: 18200", 
        "Sampling:  92% [0000000000000000000000000000000000000000    ] Iterations: 18400"
       ]
      }, 
      {
       "output_type": "stream", 
       "stream": "stderr", 
       "text": [
        "Sampling:  93% [0000000000000000000000000000000000000000    ] Iterations: 18600", 
        "Sampling:  94% [00000000000000000000000000000000000000000   ] Iterations: 18800"
       ]
      }, 
      {
       "output_type": "stream", 
       "stream": "stderr", 
       "text": [
        "Sampling:  95% [00000000000000000000000000000000000000000   ] Iterations: 19000", 
        "Sampling:  96% [000000000000000000000000000000000000000000  ] Iterations: 19200"
       ]
      }, 
      {
       "output_type": "stream", 
       "stream": "stderr", 
       "text": [
        "Sampling:  97% [000000000000000000000000000000000000000000  ] Iterations: 19400", 
        "Sampling:  98% [0000000000000000000000000000000000000000000 ] Iterations: 19600"
       ]
      }, 
      {
       "output_type": "stream", 
       "stream": "stderr", 
       "text": [
        "Sampling:  99% [0000000000000000000000000000000000000000000 ] Iterations: 19800", 
        "Sampling: 100% [00000000000000000000000000000000000000000000] Iterations: 20000"
       ]
      }, 
      {
       "output_type": "stream", 
       "stream": "stderr", 
       "text": [
        ""
       ]
      }
     ], 
     "prompt_number": 9
    }, 
    {
     "cell_type": "code", 
     "collapsed": false, 
     "input": [
      "### @export 'save'", 
      "pi_median = []", 
      "pi_spread = []", 
      "for i, k in enumerate(results):", 
      "    pi_median.append(results[k]['pi']['quantiles'][50])", 
      "    pi_spread.append(results[k]['pi']['95% HPD interval'][1]-results[k]['pi']['95% HPD interval'][0])", 
      "min_est = min(pi_median).round(4)", 
      "max_est = max(pi_median).round(4)", 
      "min_spread = min(pi_spread).round(4)", 
      "max_spread = max(pi_spread).round(4)", 
      "", 
      "", 
      "book_graphics.save_json('schiz_forest.json', vars())", 
      "", 
      "### data only plot, for computational infrastructure appendix", 
      "book_graphics.forest_plot(r, n, data_labels=cy,", 
      "                          xmax=.0115,", 
      "                          subplot_params=dict(bottom=.1, right=.99, top=.95, left=.15),", 
      "                          figparams=book_graphics.quarter_page_params,", 
      "                          fname='ci-prev_meta_analysis-schiz_data.png')"
     ], 
     "language": "python", 
     "outputs": [
      {
       "output_type": "display_data", 
       "png": "[encoded data removed]"
      }
     ], 
     "prompt_number": 10
    }, 
    {
     "cell_type": "code", 
     "collapsed": false, 
     "input": [
      "reload(book_graphics)", 
      "### master graphic of data and models, for rate model section of stats chapter", 
      "book_graphics.forest_plot(r, n, data_labels=cy,", 
      "                          xmax=.0115,", 
      "                          model_keys=['Binomial', 'Poisson', 'Beta binomial', 'Negative binomial', 'Normal', 'Lognormal',  'Offset lognormal'],", 
      "                          results=results,", 
      "                          #subplot_params=dict(bottom=.1, right=.99, top=.95, left=.15),", 
      "                          fig_params=dict(figsize=(11, 8.5), dpi=120),", 
      "                          fname='schiz_forest.pdf')"
     ], 
     "language": "python", 
     "outputs": [
      {
       "output_type": "display_data", 
       "png": "[encoded data removed]"
      }
     ], 
     "prompt_number": 28
    }, 
    {
     "cell_type": "code", 
     "collapsed": false, 
     "input": [
      "run binomial_model.py"
     ], 
     "language": "python", 
     "outputs": [
      {
       "output_type": "stream", 
       "stream": "stderr", 
       "text": [
        "Sampling:   0% [                                                ] Iterations: 0", 
        "Sampling:   1% [                                              ] Iterations: 200", 
        "Sampling:   2% [                                              ] Iterations: 400"
       ]
      }, 
      {
       "output_type": "stream", 
       "stream": "stderr", 
       "text": [
        "Sampling:   3% [0                                             ] Iterations: 600", 
        "Sampling:   4% [0                                             ] Iterations: 800", 
        "Sampling:   5% [00                                           ] Iterations: 1000"
       ]
      }, 
      {
       "output_type": "stream", 
       "stream": "stderr", 
       "text": [
        "Sampling:   6% [00                                           ] Iterations: 1200", 
        "Sampling:   7% [000                                          ] Iterations: 1400", 
        "Sampling:   8% [000                                          ] Iterations: 1600"
       ]
      }, 
      {
       "output_type": "stream", 
       "stream": "stderr", 
       "text": [
        "Sampling:   9% [0000                                         ] Iterations: 1800", 
        "Sampling:  10% [0000                                         ] Iterations: 2000", 
        "Sampling:  11% [0000                                         ] Iterations: 2200"
       ]
      }, 
      {
       "output_type": "stream", 
       "stream": "stderr", 
       "text": [
        "Sampling:  12% [00000                                        ] Iterations: 2400", 
        "Sampling:  13% [00000                                        ] Iterations: 2600", 
        "Sampling:  14% [000000                                       ] Iterations: 2800"
       ]
      }, 
      {
       "output_type": "stream", 
       "stream": "stderr", 
       "text": [
        "Sampling:  15% [000000                                       ] Iterations: 3000", 
        "Sampling:  16% [0000000                                      ] Iterations: 3200", 
        "Sampling:  17% [0000000                                      ] Iterations: 3400"
       ]
      }, 
      {
       "output_type": "stream", 
       "stream": "stderr", 
       "text": [
        "Sampling:  18% [00000000                                     ] Iterations: 3600", 
        "Sampling:  19% [00000000                                     ] Iterations: 3800", 
        "Sampling:  20% [000000000                                    ] Iterations: 4000"
       ]
      }, 
      {
       "output_type": "stream", 
       "stream": "stderr", 
       "text": [
        "Sampling:  21% [000000000                                    ] Iterations: 4200", 
        "Sampling:  22% [000000000                                    ] Iterations: 4400"
       ]
      }, 
      {
       "output_type": "stream", 
       "stream": "stderr", 
       "text": [
        "Sampling:  23% [0000000000                                   ] Iterations: 4600", 
        "Sampling:  24% [0000000000                                   ] Iterations: 4800", 
        "Sampling:  25% [00000000000                                  ] Iterations: 5000"
       ]
      }, 
      {
       "output_type": "stream", 
       "stream": "stderr", 
       "text": [
        "Sampling:  26% [00000000000                                  ] Iterations: 5200", 
        "Sampling:  27% [000000000000                                 ] Iterations: 5400", 
        "Sampling:  28% [000000000000                                 ] Iterations: 5600"
       ]
      }, 
      {
       "output_type": "stream", 
       "stream": "stderr", 
       "text": [
        "Sampling:  29% [0000000000000                                ] Iterations: 5800", 
        "Sampling:  29% [0000000000000                                ] Iterations: 5801", 
        "Sampling:  30% [0000000000000                                ] Iterations: 6000", 
        "Sampling:  31% [0000000000000                                ] Iterations: 6200"
       ]
      }, 
      {
       "output_type": "stream", 
       "stream": "stderr", 
       "text": [
        "Sampling:  32% [00000000000000                               ] Iterations: 6400", 
        "Sampling:  33% [00000000000000                               ] Iterations: 6600"
       ]
      }, 
      {
       "output_type": "stream", 
       "stream": "stderr", 
       "text": [
        "Sampling:  34% [000000000000000                              ] Iterations: 6800", 
        "Sampling:  35% [000000000000000                              ] Iterations: 7000"
       ]
      }, 
      {
       "output_type": "stream", 
       "stream": "stderr", 
       "text": [
        "Sampling:  36% [0000000000000000                             ] Iterations: 7200", 
        "Sampling:  37% [0000000000000000                             ] Iterations: 7400", 
        "Sampling:  38% [00000000000000000                            ] Iterations: 7600"
       ]
      }, 
      {
       "output_type": "stream", 
       "stream": "stderr", 
       "text": [
        "Sampling:  39% [00000000000000000                            ] Iterations: 7800", 
        "Sampling:  40% [000000000000000000                           ] Iterations: 8000", 
        "Sampling:  41% [000000000000000000                           ] Iterations: 8200"
       ]
      }, 
      {
       "output_type": "stream", 
       "stream": "stderr", 
       "text": [
        "Sampling:  42% [000000000000000000                           ] Iterations: 8400", 
        "Sampling:  43% [0000000000000000000                          ] Iterations: 8600", 
        "Sampling:  44% [0000000000000000000                          ] Iterations: 8800"
       ]
      }, 
      {
       "output_type": "stream", 
       "stream": "stderr", 
       "text": [
        "Sampling:  45% [00000000000000000000                         ] Iterations: 9000", 
        "Sampling:  46% [00000000000000000000                         ] Iterations: 9200", 
        "Sampling:  47% [000000000000000000000                        ] Iterations: 9400"
       ]
      }, 
      {
       "output_type": "stream", 
       "stream": "stderr", 
       "text": [
        "Sampling:  48% [000000000000000000000                        ] Iterations: 9600", 
        "Sampling:  49% [0000000000000000000000                       ] Iterations: 9800", 
        "Sampling:  50% [0000000000000000000000                      ] Iterations: 10000"
       ]
      }, 
      {
       "output_type": "stream", 
       "stream": "stderr", 
       "text": [
        "Sampling:  51% [0000000000000000000000                      ] Iterations: 10200", 
        "Sampling:  52% [0000000000000000000000                      ] Iterations: 10400", 
        "Sampling:  53% [00000000000000000000000                     ] Iterations: 10600"
       ]
      }, 
      {
       "output_type": "stream", 
       "stream": "stderr", 
       "text": [
        "Sampling:  54% [00000000000000000000000                     ] Iterations: 10800", 
        "Sampling:  55% [000000000000000000000000                    ] Iterations: 11000", 
        "Sampling:  56% [000000000000000000000000                    ] Iterations: 11200"
       ]
      }, 
      {
       "output_type": "stream", 
       "stream": "stderr", 
       "text": [
        "Sampling:  57% [0000000000000000000000000                   ] Iterations: 11400", 
        "Sampling:  57% [0000000000000000000000000                   ] Iterations: 11401", 
        "Sampling:  58% [0000000000000000000000000                   ] Iterations: 11600", 
        "Sampling:  58% [0000000000000000000000000                   ] Iterations: 11601", 
        "Sampling:  59% [0000000000000000000000000                   ] Iterations: 11800"
       ]
      }, 
      {
       "output_type": "stream", 
       "stream": "stderr", 
       "text": [
        "Sampling:  60% [00000000000000000000000000                  ] Iterations: 12000", 
        "Sampling:  61% [00000000000000000000000000                  ] Iterations: 12200", 
        "Sampling:  62% [000000000000000000000000000                 ] Iterations: 12400"
       ]
      }, 
      {
       "output_type": "stream", 
       "stream": "stderr", 
       "text": [
        "Sampling:  63% [000000000000000000000000000                 ] Iterations: 12600", 
        "Sampling:  64% [0000000000000000000000000000                ] Iterations: 12800"
       ]
      }, 
      {
       "output_type": "stream", 
       "stream": "stderr", 
       "text": [
        "Sampling:  65% [0000000000000000000000000000                ] Iterations: 13000", 
        "Sampling:  66% [00000000000000000000000000000               ] Iterations: 13200", 
        "Sampling:  67% [00000000000000000000000000000               ] Iterations: 13400"
       ]
      }, 
      {
       "output_type": "stream", 
       "stream": "stderr", 
       "text": [
        "Sampling:  68% [00000000000000000000000000000               ] Iterations: 13600", 
        "Sampling:  69% [000000000000000000000000000000              ] Iterations: 13800"
       ]
      }, 
      {
       "output_type": "stream", 
       "stream": "stderr", 
       "text": [
        "Sampling:  70% [000000000000000000000000000000              ] Iterations: 14000", 
        "Sampling:  71% [0000000000000000000000000000000             ] Iterations: 14200", 
        "Sampling:  72% [0000000000000000000000000000000             ] Iterations: 14400"
       ]
      }, 
      {
       "output_type": "stream", 
       "stream": "stderr", 
       "text": [
        "Sampling:  73% [00000000000000000000000000000000            ] Iterations: 14600", 
        "Sampling:  74% [00000000000000000000000000000000            ] Iterations: 14800", 
        "Sampling:  75% [000000000000000000000000000000000           ] Iterations: 15000"
       ]
      }, 
      {
       "output_type": "stream", 
       "stream": "stderr", 
       "text": [
        "Sampling:  76% [000000000000000000000000000000000           ] Iterations: 15200", 
        "Sampling:  77% [000000000000000000000000000000000           ] Iterations: 15400", 
        "Sampling:  78% [0000000000000000000000000000000000          ] Iterations: 15600"
       ]
      }, 
      {
       "output_type": "stream", 
       "stream": "stderr", 
       "text": [
        "Sampling:  79% [0000000000000000000000000000000000          ] Iterations: 15800", 
        "Sampling:  80% [00000000000000000000000000000000000         ] Iterations: 16000", 
        "Sampling:  81% [00000000000000000000000000000000000         ] Iterations: 16200"
       ]
      }, 
      {
       "output_type": "stream", 
       "stream": "stderr", 
       "text": [
        "Sampling:  82% [000000000000000000000000000000000000        ] Iterations: 16400", 
        "Sampling:  83% [000000000000000000000000000000000000        ] Iterations: 16600"
       ]
      }, 
      {
       "output_type": "stream", 
       "stream": "stderr", 
       "text": [
        "Sampling:  84% [000000000000000000000000000000000000        ] Iterations: 16800", 
        "Sampling:  85% [0000000000000000000000000000000000000       ] Iterations: 17000", 
        "Sampling:  86% [0000000000000000000000000000000000000       ] Iterations: 17200"
       ]
      }, 
      {
       "output_type": "stream", 
       "stream": "stderr", 
       "text": [
        "Sampling:  87% [00000000000000000000000000000000000000      ] Iterations: 17400", 
        "Sampling:  88% [00000000000000000000000000000000000000      ] Iterations: 17600", 
        "Sampling:  89% [000000000000000000000000000000000000000     ] Iterations: 17800"
       ]
      }, 
      {
       "output_type": "stream", 
       "stream": "stderr", 
       "text": [
        "Sampling:  90% [000000000000000000000000000000000000000     ] Iterations: 18000", 
        "Sampling:  91% [0000000000000000000000000000000000000000    ] Iterations: 18200", 
        "Sampling:  92% [0000000000000000000000000000000000000000    ] Iterations: 18400"
       ]
      }, 
      {
       "output_type": "stream", 
       "stream": "stderr", 
       "text": [
        "Sampling:  93% [0000000000000000000000000000000000000000    ] Iterations: 18600", 
        "Sampling:  94% [00000000000000000000000000000000000000000   ] Iterations: 18800", 
        "Sampling:  95% [00000000000000000000000000000000000000000   ] Iterations: 19000"
       ]
      }, 
      {
       "output_type": "stream", 
       "stream": "stderr", 
       "text": [
        "Sampling:  96% [000000000000000000000000000000000000000000  ] Iterations: 19200", 
        "Sampling:  97% [000000000000000000000000000000000000000000  ] Iterations: 19400", 
        "Sampling:  98% [0000000000000000000000000000000000000000000 ] Iterations: 19600"
       ]
      }, 
      {
       "output_type": "stream", 
       "stream": "stderr", 
       "text": [
        "Sampling:  99% [0000000000000000000000000000000000000000000 ] Iterations: 19800", 
        "Sampling: 100% [00000000000000000000000000000000000000000000] Iterations: 20000", 
        "Sampling:   0% [                                                ] Iterations: 0", 
        "Sampling:   1% [                                              ] Iterations: 200"
       ]
      }, 
      {
       "output_type": "stream", 
       "stream": "stderr", 
       "text": [
        "Sampling:   2% [                                              ] Iterations: 400", 
        "Sampling:   3% [0                                             ] Iterations: 600", 
        "Sampling:   4% [0                                             ] Iterations: 800", 
        "Sampling:   5% [00                                           ] Iterations: 1000", 
        "Sampling:   6% [00                                           ] Iterations: 1200", 
        "Sampling:   7% [000                                          ] Iterations: 1400"
       ]
      }, 
      {
       "output_type": "stream", 
       "stream": "stderr", 
       "text": [
        "Sampling:   8% [000                                          ] Iterations: 1600", 
        "Sampling:   9% [0000                                         ] Iterations: 1800", 
        "Sampling:  10% [0000                                         ] Iterations: 2000"
       ]
      }, 
      {
       "output_type": "stream", 
       "stream": "stderr", 
       "text": [
        "Sampling:  11% [0000                                         ] Iterations: 2200", 
        "Sampling:  12% [00000                                        ] Iterations: 2400", 
        "Sampling:  13% [00000                                        ] Iterations: 2600"
       ]
      }, 
      {
       "output_type": "stream", 
       "stream": "stderr", 
       "text": [
        "Sampling:  14% [000000                                       ] Iterations: 2800", 
        "Sampling:  15% [000000                                       ] Iterations: 3000", 
        "Sampling:  16% [0000000                                      ] Iterations: 3200", 
        "Sampling:  17% [0000000                                      ] Iterations: 3400"
       ]
      }, 
      {
       "output_type": "stream", 
       "stream": "stderr", 
       "text": [
        "Sampling:  18% [00000000                                     ] Iterations: 3600", 
        "Sampling:  19% [00000000                                     ] Iterations: 3800", 
        "Sampling:  20% [000000000                                    ] Iterations: 4000", 
        "Sampling:  21% [000000000                                    ] Iterations: 4200"
       ]
      }, 
      {
       "output_type": "stream", 
       "stream": "stderr", 
       "text": [
        "Sampling:  22% [000000000                                    ] Iterations: 4400", 
        "Sampling:  23% [0000000000                                   ] Iterations: 4600", 
        "Sampling:  24% [0000000000                                   ] Iterations: 4800", 
        "Sampling:  25% [00000000000                                  ] Iterations: 5000", 
        "Sampling:  26% [00000000000                                  ] Iterations: 5200"
       ]
      }, 
      {
       "output_type": "stream", 
       "stream": "stderr", 
       "text": [
        "Sampling:  27% [000000000000                                 ] Iterations: 5400", 
        "Sampling:  28% [000000000000                                 ] Iterations: 5600", 
        "Sampling:  29% [0000000000000                                ] Iterations: 5800", 
        "Sampling:  29% [0000000000000                                ] Iterations: 5801", 
        "Sampling:  30% [0000000000000                                ] Iterations: 6000", 
        "Sampling:  31% [0000000000000                                ] Iterations: 6200"
       ]
      }, 
      {
       "output_type": "stream", 
       "stream": "stderr", 
       "text": [
        "Sampling:  32% [00000000000000                               ] Iterations: 6400", 
        "Sampling:  33% [00000000000000                               ] Iterations: 6600", 
        "Sampling:  34% [000000000000000                              ] Iterations: 6800", 
        "Sampling:  35% [000000000000000                              ] Iterations: 7000", 
        "Sampling:  36% [0000000000000000                             ] Iterations: 7200"
       ]
      }, 
      {
       "output_type": "stream", 
       "stream": "stderr", 
       "text": [
        "Sampling:  37% [0000000000000000                             ] Iterations: 7400", 
        "Sampling:  38% [00000000000000000                            ] Iterations: 7600", 
        "Sampling:  39% [00000000000000000                            ] Iterations: 7800", 
        "Sampling:  40% [000000000000000000                           ] Iterations: 8000", 
        "Sampling:  41% [000000000000000000                           ] Iterations: 8200"
       ]
      }, 
      {
       "output_type": "stream", 
       "stream": "stderr", 
       "text": [
        "Sampling:  42% [000000000000000000                           ] Iterations: 8400", 
        "Sampling:  43% [0000000000000000000                          ] Iterations: 8600", 
        "Sampling:  44% [0000000000000000000                          ] Iterations: 8800", 
        "Sampling:  45% [00000000000000000000                         ] Iterations: 9000"
       ]
      }, 
      {
       "output_type": "stream", 
       "stream": "stderr", 
       "text": [
        "Sampling:  46% [00000000000000000000                         ] Iterations: 9200", 
        "Sampling:  47% [000000000000000000000                        ] Iterations: 9400", 
        "Sampling:  48% [000000000000000000000                        ] Iterations: 9600"
       ]
      }, 
      {
       "output_type": "stream", 
       "stream": "stderr", 
       "text": [
        "Sampling:  49% [0000000000000000000000                       ] Iterations: 9800", 
        "Sampling:  50% [0000000000000000000000                      ] Iterations: 10000", 
        "Sampling:  51% [0000000000000000000000                      ] Iterations: 10200"
       ]
      }, 
      {
       "output_type": "stream", 
       "stream": "stderr", 
       "text": [
        "Sampling:  52% [0000000000000000000000                      ] Iterations: 10400", 
        "Sampling:  53% [00000000000000000000000                     ] Iterations: 10600", 
        "Sampling:  54% [00000000000000000000000                     ] Iterations: 10800", 
        "Sampling:  55% [000000000000000000000000                    ] Iterations: 11000"
       ]
      }, 
      {
       "output_type": "stream", 
       "stream": "stderr", 
       "text": [
        "Sampling:  56% [000000000000000000000000                    ] Iterations: 11200", 
        "Sampling:  57% [0000000000000000000000000                   ] Iterations: 11400", 
        "Sampling:  57% [0000000000000000000000000                   ] Iterations: 11401", 
        "Sampling:  58% [0000000000000000000000000                   ] Iterations: 11600", 
        "Sampling:  58% [0000000000000000000000000                   ] Iterations: 11601", 
        "Sampling:  59% [0000000000000000000000000                   ] Iterations: 11800"
       ]
      }, 
      {
       "output_type": "stream", 
       "stream": "stderr", 
       "text": [
        "Sampling:  60% [00000000000000000000000000                  ] Iterations: 12000", 
        "Sampling:  61% [00000000000000000000000000                  ] Iterations: 12200", 
        "Sampling:  62% [000000000000000000000000000                 ] Iterations: 12400"
       ]
      }, 
      {
       "output_type": "stream", 
       "stream": "stderr", 
       "text": [
        "Sampling:  63% [000000000000000000000000000                 ] Iterations: 12600", 
        "Sampling:  64% [0000000000000000000000000000                ] Iterations: 12800", 
        "Sampling:  65% [0000000000000000000000000000                ] Iterations: 13000"
       ]
      }, 
      {
       "output_type": "stream", 
       "stream": "stderr", 
       "text": [
        "Sampling:  66% [00000000000000000000000000000               ] Iterations: 13200", 
        "Sampling:  67% [00000000000000000000000000000               ] Iterations: 13400", 
        "Sampling:  68% [00000000000000000000000000000               ] Iterations: 13600", 
        "Sampling:  69% [000000000000000000000000000000              ] Iterations: 13800"
       ]
      }, 
      {
       "output_type": "stream", 
       "stream": "stderr", 
       "text": [
        "Sampling:  70% [000000000000000000000000000000              ] Iterations: 14000", 
        "Sampling:  71% [0000000000000000000000000000000             ] Iterations: 14200", 
        "Sampling:  72% [0000000000000000000000000000000             ] Iterations: 14400"
       ]
      }, 
      {
       "output_type": "stream", 
       "stream": "stderr", 
       "text": [
        "Sampling:  73% [00000000000000000000000000000000            ] Iterations: 14600", 
        "Sampling:  74% [00000000000000000000000000000000            ] Iterations: 14800", 
        "Sampling:  75% [000000000000000000000000000000000           ] Iterations: 15000"
       ]
      }, 
      {
       "output_type": "stream", 
       "stream": "stderr", 
       "text": [
        "Sampling:  76% [000000000000000000000000000000000           ] Iterations: 15200", 
        "Sampling:  77% [000000000000000000000000000000000           ] Iterations: 15400", 
        "Sampling:  78% [0000000000000000000000000000000000          ] Iterations: 15600"
       ]
      }, 
      {
       "output_type": "stream", 
       "stream": "stderr", 
       "text": [
        "Sampling:  79% [0000000000000000000000000000000000          ] Iterations: 15800", 
        "Sampling:  80% [00000000000000000000000000000000000         ] Iterations: 16000", 
        "Sampling:  81% [00000000000000000000000000000000000         ] Iterations: 16200", 
        "Sampling:  82% [000000000000000000000000000000000000        ] Iterations: 16400"
       ]
      }, 
      {
       "output_type": "stream", 
       "stream": "stderr", 
       "text": [
        "Sampling:  83% [000000000000000000000000000000000000        ] Iterations: 16600", 
        "Sampling:  84% [000000000000000000000000000000000000        ] Iterations: 16800", 
        "Sampling:  85% [0000000000000000000000000000000000000       ] Iterations: 17000", 
        "Sampling:  86% [0000000000000000000000000000000000000       ] Iterations: 17200", 
        "Sampling:  87% [00000000000000000000000000000000000000      ] Iterations: 17400"
       ]
      }, 
      {
       "output_type": "stream", 
       "stream": "stderr", 
       "text": [
        "Sampling:  88% [00000000000000000000000000000000000000      ] Iterations: 17600", 
        "Sampling:  89% [000000000000000000000000000000000000000     ] Iterations: 17800", 
        "Sampling:  90% [000000000000000000000000000000000000000     ] Iterations: 18000", 
        "Sampling:  91% [0000000000000000000000000000000000000000    ] Iterations: 18200", 
        "Sampling:  92% [0000000000000000000000000000000000000000    ] Iterations: 18400"
       ]
      }, 
      {
       "output_type": "stream", 
       "stream": "stderr", 
       "text": [
        "Sampling:  93% [0000000000000000000000000000000000000000    ] Iterations: 18600", 
        "Sampling:  94% [00000000000000000000000000000000000000000   ] Iterations: 18800", 
        "Sampling:  95% [00000000000000000000000000000000000000000   ] Iterations: 19000", 
        "Sampling:  96% [000000000000000000000000000000000000000000  ] Iterations: 19200", 
        "Sampling:  97% [000000000000000000000000000000000000000000  ] Iterations: 19400"
       ]
      }, 
      {
       "output_type": "stream", 
       "stream": "stdout", 
       "text": [
        "4", 
        "[3, 5]"
       ]
      }, 
      {
       "output_type": "stream", 
       "stream": "stderr", 
       "text": [
        "Sampling:  98% [0000000000000000000000000000000000000000000 ] Iterations: 19600", 
        "Sampling:  99% [0000000000000000000000000000000000000000000 ] Iterations: 19800", 
        "Sampling: 100% [00000000000000000000000000000000000000000000] Iterations: 20000"
       ]
      }, 
      {
       "output_type": "display_data", 
       "png": "[encoded data removed]"
      }, 
      {
       "output_type": "display_data", 
       "png": "[encoded data removed]"
      }
     ], 
     "prompt_number": 31
    }, 
    {
     "cell_type": "code", 
     "collapsed": true, 
     "input": [], 
     "language": "python", 
     "outputs": [], 
     "prompt_number": 15
    }, 
    {
     "cell_type": "code", 
     "collapsed": true, 
     "input": [], 
     "language": "python", 
     "outputs": [], 
     "prompt_number": 15
    }, 
    {
     "cell_type": "code", 
     "collapsed": true, 
     "input": [], 
     "language": "python", 
     "outputs": [], 
     "prompt_number": 15
    }, 
    {
     "cell_type": "code", 
     "collapsed": true, 
     "input": [], 
     "language": "python", 
     "outputs": [], 
     "prompt_number": 15
    }, 
    {
     "cell_type": "code", 
     "collapsed": true, 
     "input": [], 
     "language": "python", 
     "outputs": [], 
     "prompt_number": 15
    }, 
    {
     "cell_type": "code", 
     "collapsed": true, 
     "input": [], 
     "language": "python", 
     "outputs": [], 
     "prompt_number": 15
    }, 
    {
     "cell_type": "code", 
     "collapsed": true, 
     "input": [], 
     "language": "python", 
     "outputs": [], 
     "prompt_number": 15
    }, 
    {
     "cell_type": "code", 
     "collapsed": true, 
     "input": [], 
     "language": "python", 
     "outputs": [], 
     "prompt_number": 15
    }, 
    {
     "cell_type": "code", 
     "collapsed": true, 
     "input": [], 
     "language": "python", 
     "outputs": [], 
     "prompt_number": 15
    }, 
    {
     "cell_type": "code", 
     "collapsed": true, 
     "input": [], 
     "language": "python", 
     "outputs": [], 
     "prompt_number": 15
    }, 
    {
     "cell_type": "code", 
     "collapsed": true, 
     "input": [], 
     "language": "python", 
     "outputs": [], 
     "prompt_number": 15
    }, 
    {
     "cell_type": "code", 
     "collapsed": true, 
     "input": [], 
     "language": "python", 
     "outputs": [], 
     "prompt_number": 15
    }, 
    {
     "cell_type": "code", 
     "collapsed": true, 
     "input": [], 
     "language": "python", 
     "outputs": [], 
     "prompt_number": "&nbsp;"
    }
   ]
  }
 ]
}